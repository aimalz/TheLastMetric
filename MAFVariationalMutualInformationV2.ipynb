{
  "nbformat": 4,
  "nbformat_minor": 0,
  "metadata": {
    "accelerator": "GPU",
    "colab": {
      "name": "MAFVariationalMutualInformation.ipynb",
      "provenance": [],
      "collapsed_sections": [],
      "include_colab_link": true
    },
    "kernelspec": {
      "display_name": "Python 3",
      "name": "python3"
    }
  },
  "cells": [
    {
      "cell_type": "markdown",
      "metadata": {
        "id": "view-in-github",
        "colab_type": "text"
      },
      "source": [
        "<a href=\"https://colab.research.google.com/github/aimalz/TheLastMetric/blob/master/MAFVariationalMutualInformationV2.ipynb\" target=\"_parent\"><img src=\"https://colab.research.google.com/assets/colab-badge.svg\" alt=\"Open In Colab\"/></a>"
      ]
    },
    {
      "cell_type": "markdown",
      "metadata": {
        "id": "talJxDz8s2CM"
      },
      "source": [
        "# `TheLastMetric`: An Information Metric for Observing Strategy Optimization for Photo-z"
      ]
    },
    {
      "cell_type": "code",
      "metadata": {
        "id": "TUn6rEWmO8FU"
      },
      "source": [
        "# The code in this notebook works against these versions of jax and tfp\n",
        "!pip install --quiet https://storage.googleapis.com/jax-releases/cuda101/jaxlib-0.1.51-cp37-none-manylinux2010_x86_64.whl\n",
        "!pip install --quiet jax==0.1.73 tensorflow-probability==0.11.0 flax==0.2.0\n",
        "!pip install --quiet corner"
      ],
      "execution_count": null,
      "outputs": []
    },
    {
      "cell_type": "markdown",
      "metadata": {
        "id": "fyivJdJCvH7h"
      },
      "source": [
        "## Loading the data\n",
        "\n",
        "Assuming a fiducial underlying galaxy catalog, we use `OpSim` to generate observed galaxy catalogs under different observing strategies."
      ]
    },
    {
      "cell_type": "code",
      "metadata": {
        "id": "HZj13_soq0Hv"
      },
      "source": [
        "!wget --quiet -O dataset.tar https://drive.google.com/u/0/uc?id=1enl3sOBmUf_4zb5dOHUOiwa0PyaaYYKg&export=download\n",
        "!tar -xf dataset.tar\n",
        "!mv for_malz_lanusse dataset"
      ],
      "execution_count": null,
      "outputs": []
    },
    {
      "cell_type": "code",
      "metadata": {
        "id": "08-S11bxrRZ_"
      },
      "source": [
        "more dataset/readme.txt"
      ],
      "execution_count": null,
      "outputs": []
    },
    {
      "cell_type": "code",
      "metadata": {
        "id": "EaSTqLUx-qSr"
      },
      "source": [
        "# import collections\n",
        "# OpSimRun = collections.namedtuple('metadata', 'shortname longname lim_u lim_g lim_r lim_i lim_z lim_y')\n",
        "\n",
        "all_readme = open('dataset/readme.txt').read().split('\\n')\n",
        "metadata = []\n",
        "for i, line in enumerate(all_readme[1:13]):\n",
        "  descr = all_readme[i+16].split()[2:]\n",
        "  metadata.append(line.split() + [descr])\n",
        "print(metadata)"
      ],
      "execution_count": null,
      "outputs": []
    },
    {
      "cell_type": "code",
      "metadata": {
        "id": "6IGkGcZlveO9"
      },
      "source": [
        "names_z=('ID', 'z_true', 'z_phot', 'dz_phot', 'NN', 'N_train')\n",
        "names_phot=('ID', 'z_true', \n",
        "        'u', 'g', 'r', 'i', 'z', 'y', \n",
        "        'err_u', 'err_g', 'err_r', 'err_i', 'err_z', 'err_y', \n",
        "        'u-g', 'g-r', 'r-i', 'i-z', 'z-y',\n",
        "        'err_u-g', 'err_g-r', 'err_r-i', 'err_i-z', 'err_z-y')"
      ],
      "execution_count": null,
      "outputs": []
    },
    {
      "cell_type": "code",
      "metadata": {
        "id": "hTBmWeZ_unn3"
      },
      "source": [
        "available_os = ['baseline_v1.4_10yrs', 'twilight_neo_mod1_v1.4_10yrs', 'var_expt_v1.4_10yrs', 'weather_1.2_v1.4_10yrs']\n",
        "os_colors = {'baseline_v1.4_10yrs': 'k', 'twilight_neo_mod1_v1.4_10yrs': '#2ca02c', 'var_expt_v1.4_10yrs': '#1f77b4', 'weather_1.2_v1.4_10yrs': '#ff7f0e'}"
      ],
      "execution_count": null,
      "outputs": []
    },
    {
      "cell_type": "code",
      "metadata": {
        "id": "w0SZFBkerVyq"
      },
      "source": [
        "from astropy.table import Table\n",
        "\n",
        "phot_cats, z_cats = {}, {}\n",
        "for one_os in available_os:\n",
        "  test_cat = Table.read('dataset/'+one_os+'/test.cat', format='ascii')\n",
        "\n",
        "\n",
        "  z_cat = Table.read('dataset/'+one_os+'/zphot.cat', \n",
        "                       format='ascii', \n",
        "                       names=names_z)\n",
        "\n",
        "  phot_cat = Table.read('dataset/'+one_os+'/test.cat', \n",
        "                       format='ascii', \n",
        "                       names=names_phot)\n",
        "  phot_cat = Table.from_pandas(phot_cat.to_pandas().dropna())\n",
        "  phot_cats[one_os] = phot_cat\n",
        "  z_cats[one_os] = z_cat"
      ],
      "execution_count": null,
      "outputs": []
    },
    {
      "cell_type": "code",
      "metadata": {
        "id": "giQ6d2g0zImm"
      },
      "source": [
        "%pylab inline\n",
        "for which_os in available_os:\n",
        "  hist(z_cats[which_os]['z_true'], bins=50, alpha=0.35, color=os_colors[which_os], \n",
        "       label=which_os+': '+str(len(phot_cats[which_os]))+' galaxies')\n",
        "xlabel(r'true redshift $z$')\n",
        "ylabel('number of galaxies')\n",
        "legend(loc='upper right', fontsize='small')\n",
        "# title(str(len(phot_cats['baseline_v1.4_10yrs']))+' galaxies')"
      ],
      "execution_count": null,
      "outputs": []
    },
    {
      "cell_type": "code",
      "metadata": {
        "id": "vbc59PeVlcil"
      },
      "source": [
        "import corner\n",
        "\n",
        "labels = ['u-g', 'g-r', 'r-i', 'i-z', 'z-y']\n",
        "def prep_for_corner(one_os):\n",
        "  return np.array([phot_cats[one_os]['u-g'], phot_cats[one_os]['g-r'], phot_cats[one_os]['r-i'], phot_cats[one_os]['i-z'], phot_cats[one_os]['z-y']]).T\n",
        "fig = corner.corner(prep_for_corner('baseline_v1.4_10yrs'), labels=labels)\n",
        "for which_os in available_os[1:]:\n",
        "  corner.corner(prep_for_corner(which_os), fig=fig, color=os_colors[which_os])\n",
        "# corner.corner(prep_for_corner('var_expt_v1.4_10yrs'), fig=fig, color='r')\n",
        "# corner.corner(prep_for_corner('weather_1.2_v1.4_10yrs'), fig=fig, color='b')\n",
        "\n",
        "# note to self: try some of these tricks https://github.com/tommasotreu/AARV/blob/master/attic/spare-or-old-figures/DdtDa.ipynb\n",
        "# also choose friendlier colors!"
      ],
      "execution_count": null,
      "outputs": []
    },
    {
      "cell_type": "markdown",
      "metadata": {
        "id": "G8e-Xq4JvGDs"
      },
      "source": [
        "## Approximating the Mutual Information Lower Bound\n",
        "\n",
        "We use a normalizing flow to approximate the distribution of redshift and photometry."
      ]
    },
    {
      "cell_type": "code",
      "metadata": {
        "id": "_uQrERW0CNRX",
        "cellView": "form"
      },
      "source": [
        "#@title Some useful code\n",
        "\n",
        "import numpy as onp\n",
        "import jax.numpy as jnp\n",
        " \n",
        "from tensorflow_probability.python.internal.backend import jax as tf\n",
        "import tensorflow_probability as tfp; tfp = tfp.experimental.substrates.jax\n",
        " \n",
        "bijector_lib = tfp.bijectors.bijector\n",
        " \n",
        "__all__ = [\n",
        "    'RealNVP'\n",
        "]\n",
        " \n",
        "class RealNVP(bijector_lib.Bijector):\n",
        "  \"\"\"RealNVP 'affine coupling layer' for vector-valued events.\n",
        "  Real NVP models a normalizing flow on a `D`-dimensional distribution via a\n",
        "  single `D-d`-dimensional conditional distribution [(Dinh et al., 2017)][1]:\n",
        "  `y[d:D] = x[d:D] * tf.exp(log_scale_fn(x[0:d])) + shift_fn(x[0:d])`\n",
        "  `y[0:d] = x[0:d]`\n",
        "  The last `D-d` units are scaled and shifted based on the first `d` units only,\n",
        "  while the first `d` units are 'masked' and left unchanged. Real NVP's\n",
        "  `shift_and_log_scale_fn` computes vector-valued quantities. For\n",
        "  scale-and-shift transforms that do not depend on any masked units, i.e.\n",
        "  `d=0`, use the `tfb.Affine` bijector with learned parameters instead.\n",
        "  Masking is currently only supported for base distributions with\n",
        "  `event_ndims=1`. For more sophisticated masking schemes like checkerboard or\n",
        "  channel-wise masking [(Papamakarios et al., 2016)[4], use the `tfb.Permute`\n",
        "  bijector to re-order desired masked units into the first `d` units. For base\n",
        "  distributions with `event_ndims > 1`, use the `tfb.Reshape` bijector to\n",
        "  flatten the event shape.\n",
        "  Recall that the MAF bijector [(Papamakarios et al., 2016)][4] implements a\n",
        "  normalizing flow via an autoregressive transformation. MAF and IAF have\n",
        "  opposite computational tradeoffs - MAF can train all units in parallel but\n",
        "  must sample units sequentially, while IAF must train units sequentially but\n",
        "  can sample in parallel. In contrast, Real NVP can compute both forward and\n",
        "  inverse computations in parallel. However, the lack of an autoregressive\n",
        "  transformations makes it less expressive on a per-bijector basis.\n",
        "  A 'valid' `shift_and_log_scale_fn` must compute each `shift` (aka `loc` or\n",
        "  'mu' in [Papamakarios et al. (2016)][4]) and `log(scale)` (aka 'alpha' in\n",
        "  [Papamakarios et al. (2016)][4]) such that each are broadcastable with the\n",
        "  arguments to `forward` and `inverse`, i.e., such that the calculations in\n",
        "  `forward`, `inverse` [below] are possible. For convenience,\n",
        "  `real_nvp_default_nvp` is offered as a possible `shift_and_log_scale_fn`\n",
        "  function.\n",
        "  NICE [(Dinh et al., 2014)][2] is a special case of the Real NVP bijector\n",
        "  which discards the scale transformation, resulting in a constant-time\n",
        "  inverse-log-determinant-Jacobian. To use a NICE bijector instead of Real\n",
        "  NVP, `shift_and_log_scale_fn` should return `(shift, None)`, and\n",
        "  `is_constant_jacobian` should be set to `True` in the `RealNVP` constructor.\n",
        "  Calling `real_nvp_default_template` with `shift_only=True` returns one such\n",
        "  NICE-compatible `shift_and_log_scale_fn`.\n",
        "  The `bijector_fn` argument allows specifying a more general coupling relation,\n",
        "  such as the LSTM-inspired activation from [5], or Neural Spline Flow [6].\n",
        "  Caching: the scalar input depth `D` of the base distribution is not known at\n",
        "  construction time. The first call to any of `forward(x)`, `inverse(x)`,\n",
        "  `inverse_log_det_jacobian(x)`, or `forward_log_det_jacobian(x)` memoizes\n",
        "  `D`, which is re-used in subsequent calls. This shape must be known prior to\n",
        "  graph execution (which is the case if using tf.layers).\n",
        "  #### Examples\n",
        "  ```python\n",
        "  tfd = tfp.distributions\n",
        "  tfb = tfp.bijectors\n",
        "  # A common choice for a normalizing flow is to use a Gaussian for the base\n",
        "  # distribution. (However, any continuous distribution would work.) E.g.,\n",
        "  nvp = tfd.TransformedDistribution(\n",
        "      distribution=tfd.MultivariateNormalDiag(loc=[0., 0., 0.]),\n",
        "      bijector=tfb.RealNVP(\n",
        "          num_masked=2,\n",
        "          shift_and_log_scale_fn=tfb.real_nvp_default_template(\n",
        "              hidden_layers=[512, 512])))\n",
        "  x = nvp.sample()\n",
        "  nvp.log_prob(x)\n",
        "  nvp.log_prob(0.)\n",
        "  ```\n",
        "  For more examples, see [Jang (2018)][3].\n",
        "  #### References\n",
        "  [1]: Laurent Dinh, Jascha Sohl-Dickstein, and Samy Bengio. Density Estimation\n",
        "       using Real NVP. In _International Conference on Learning\n",
        "       Representations_, 2017. https://arxiv.org/abs/1605.08803\n",
        "  [2]: Laurent Dinh, David Krueger, and Yoshua Bengio. NICE: Non-linear\n",
        "       Independent Components Estimation. _arXiv preprint arXiv:1410.8516_,\n",
        "       2014. https://arxiv.org/abs/1410.8516\n",
        "  [3]: Eric Jang. Normalizing Flows Tutorial, Part 2: Modern Normalizing Flows.\n",
        "       _Technical Report_, 2018. http://blog.evjang.com/2018/01/nf2.html\n",
        "  [4]: George Papamakarios, Theo Pavlakou, and Iain Murray. Masked\n",
        "       Autoregressive Flow for Density Estimation. In _Neural Information\n",
        "       Processing Systems_, 2017. https://arxiv.org/abs/1705.07057\n",
        "  [5]: Diederik P Kingma, Tim Salimans, Max Welling. Improving Variational\n",
        "       Inference with Inverse Autoregressive Flow. In _Neural Information\n",
        "       Processing Systems_, 2016. https://arxiv.org/abs/1606.04934\n",
        "  [6]: Conor Durkan, Artur Bekasov, Iain Murray, George Papamakarios. Neural\n",
        "       Spline Flows, 2019. http://arxiv.org/abs/1906.04032\n",
        "  \"\"\"\n",
        " \n",
        "  def __init__(self,\n",
        "               num_masked=None,\n",
        "               fraction_masked=None,\n",
        "               shift_and_log_scale_fn=None,\n",
        "               bijector_fn=None,\n",
        "               is_constant_jacobian=False,\n",
        "               validate_args=False,\n",
        "               name=None):\n",
        "    \"\"\"Creates the Real NVP or NICE bijector.\n",
        "    Args:\n",
        "      num_masked: Python `int`, indicating the number of units of the\n",
        "        event that should should be masked. Must be in the closed interval\n",
        "        `[0, D-1]`, where `D` is the event size of the base distribution.\n",
        "        If the value is negative, then the last `d` units of the event are\n",
        "        masked instead. Must be `None` if `fraction_masked` is defined.\n",
        "      fraction_masked: Python `float`, indicating the number of units of the\n",
        "        event that should should be masked. Must be in the closed interval\n",
        "        `[-1, 1]`, and the value represents the fraction of the values to be\n",
        "        masked. The final number of values to be masked will be the input size\n",
        "        times the fraction, rounded to the the nearest integer towards zero.\n",
        "        If negative, then the last fraction of units are masked instead. Must\n",
        "        be `None` if `num_masked` is defined.\n",
        "      shift_and_log_scale_fn: Python `callable` which computes `shift` and\n",
        "        `log_scale` from both the forward domain (`x`) and the inverse domain\n",
        "        (`y`). Calculation must respect the 'autoregressive property' (see class\n",
        "        docstring). Suggested default\n",
        "        `masked_autoregressive_default_template(hidden_layers=...)`.\n",
        "        Typically the function contains `tf.Variables` and is wrapped using\n",
        "        `tf.make_template`. Returning `None` for either (both) `shift`,\n",
        "        `log_scale` is equivalent to (but more efficient than) returning zero.\n",
        "      bijector_fn: Python `callable` which returns a `tfb.Bijector` which\n",
        "        transforms the last `D-d` unit with the signature `(masked_units_tensor,\n",
        "        output_units, **condition_kwargs) -> bijector`. The bijector must\n",
        "        operate on scalar or vector events and must not alter the rank of its\n",
        "        input.\n",
        "      is_constant_jacobian: Python `bool`. Default: `False`. When `True` the\n",
        "        implementation assumes `log_scale` does not depend on the forward domain\n",
        "        (`x`) or inverse domain (`y`) values. (No validation is made;\n",
        "        `is_constant_jacobian=False` is always safe but possibly computationally\n",
        "        inefficient.)\n",
        "      validate_args: Python `bool` indicating whether arguments should be\n",
        "        checked for correctness.\n",
        "      name: Python `str`, name given to ops managed by this object.\n",
        "    Raises:\n",
        "      ValueError: If both or none of `shift_and_log_scale_fn` and `bijector_fn`\n",
        "          are specified.\n",
        "    \"\"\"\n",
        "    parameters = dict(locals())\n",
        "    name = name or 'real_nvp'\n",
        "    with tf.name_scope(name) as name:\n",
        "      # At construction time, we don't know input_depth.\n",
        "      self._input_depth = None\n",
        "      if num_masked is not None and fraction_masked is not None:\n",
        "        raise ValueError('Exactly one of `num_masked` and '\n",
        "                         '`fraction_masked` should be specified.')\n",
        " \n",
        "      if num_masked is not None:\n",
        "        if int(num_masked) != num_masked:\n",
        "          raise TypeError('`num_masked` must be an integer. Got: {} of type {}'\n",
        "                          ''.format(num_masked, type(num_masked)))\n",
        "        self._num_masked = int(num_masked)\n",
        "        self._fraction_masked = None\n",
        "        self._reverse_mask = self._num_masked < 0\n",
        "      else:\n",
        "        if not np.issubdtype(type(fraction_masked), np.floating):\n",
        "          raise TypeError('`fraction_masked` must be a float. Got: {} of type '\n",
        "                          '{}'.format(fraction_masked, type(fraction_masked)))\n",
        "        if np.abs(fraction_masked) >= 1.:\n",
        "          raise ValueError(\n",
        "              '`fraction_masked` must be in (-1, 1), but is {}.'.format(\n",
        "                  fraction_masked))\n",
        "        self._num_masked = None\n",
        "        self._fraction_masked = float(fraction_masked)\n",
        "        self._reverse_mask = self._fraction_masked < 0\n",
        " \n",
        "      if shift_and_log_scale_fn is not None and bijector_fn is not None:\n",
        "        raise ValueError('Exactly one of `shift_and_log_scale_fn` and '\n",
        "                         '`bijector_fn` should be specified.')\n",
        " \n",
        "      if shift_and_log_scale_fn:\n",
        "        def _bijector_fn(x0, input_depth, **condition_kwargs):\n",
        "          shift, log_scale = shift_and_log_scale_fn(x0, input_depth,\n",
        "                                                    **condition_kwargs)\n",
        "          return affine_scalar.AffineScalar(shift=shift, log_scale=log_scale)\n",
        " \n",
        "        bijector_fn = _bijector_fn\n",
        "      #\n",
        "      # if validate_args:\n",
        "      #   bijector_fn = _validate_bijector_fn(bijector_fn)\n",
        " \n",
        "      # Still do this assignment for variable tracking.\n",
        "      self._shift_and_log_scale_fn = shift_and_log_scale_fn\n",
        "      self._bijector_fn = bijector_fn\n",
        " \n",
        "      super(RealNVP, self).__init__(\n",
        "          forward_min_event_ndims=1,\n",
        "          is_constant_jacobian=is_constant_jacobian,\n",
        "          validate_args=validate_args,\n",
        "          parameters=parameters,\n",
        "          name=name)\n",
        " \n",
        "  @property\n",
        "  def _masked_size(self):\n",
        "    masked_size = (\n",
        "        self._num_masked if self._num_masked is not None else int(\n",
        "            np.round(self._input_depth * self._fraction_masked)))\n",
        "    return masked_size\n",
        " \n",
        "  def _cache_input_depth(self, x):\n",
        "    if self._input_depth is None:\n",
        "      self._input_depth = x.shape[-1]\n",
        "      if self._input_depth is None:\n",
        "        raise NotImplementedError(\n",
        "            'Rightmost dimension must be known prior to graph execution.')\n",
        " \n",
        "      if abs(self._masked_size) >= self._input_depth:\n",
        "        raise ValueError(\n",
        "            'Number of masked units {} must be smaller than the event size {}.'\n",
        "            .format(self._masked_size, self._input_depth))\n",
        " \n",
        "  def _bijector_input_units(self):\n",
        "    return self._input_depth - abs(self._masked_size)\n",
        " \n",
        "  def _forward(self, x, **condition_kwargs):\n",
        "    self._cache_input_depth(x)\n",
        " \n",
        "    x0, x1 = x[..., :self._masked_size], x[..., self._masked_size:]\n",
        " \n",
        "    if self._reverse_mask:\n",
        "      x0, x1 = x1, x0\n",
        " \n",
        "    y1 = self._bijector_fn(x0, self._bijector_input_units(),\n",
        "                           **condition_kwargs).forward(x1)\n",
        " \n",
        "    if self._reverse_mask:\n",
        "      y1, x0 = x0, y1\n",
        " \n",
        "    y = tf.concat([x0, y1], axis=-1)\n",
        "    return y\n",
        " \n",
        "  def _inverse(self, y, **condition_kwargs):\n",
        "    self._cache_input_depth(y)\n",
        " \n",
        "    y0, y1 = y[..., :self._masked_size], y[..., self._masked_size:]\n",
        " \n",
        "    if self._reverse_mask:\n",
        "      y0, y1 = y1, y0\n",
        " \n",
        "    x1 = self._bijector_fn(y0, self._bijector_input_units(),\n",
        "                           **condition_kwargs).inverse(y1)\n",
        " \n",
        "    if self._reverse_mask:\n",
        "      x1, y0 = y0, x1\n",
        " \n",
        "    x = tf.concat([y0, x1], axis=-1)\n",
        "    return x\n",
        " \n",
        "  def _forward_log_det_jacobian(self, x, **condition_kwargs):\n",
        "    self._cache_input_depth(x)\n",
        " \n",
        "    x0, x1 = x[..., :self._masked_size], x[..., self._masked_size:]\n",
        " \n",
        "    if self._reverse_mask:\n",
        "      x0, x1 = x1, x0\n",
        " \n",
        "    return self._bijector_fn(x0, self._bijector_input_units(),\n",
        "                             **condition_kwargs).forward_log_det_jacobian(\n",
        "                                 x1, event_ndims=1)\n",
        " \n",
        "  def _inverse_log_det_jacobian(self, y, **condition_kwargs):\n",
        "    self._cache_input_depth(y)\n",
        " \n",
        "    y0, y1 = y[..., :self._masked_size], y[..., self._masked_size:]\n",
        " \n",
        "    if self._reverse_mask:\n",
        "      y0, y1 = y1, y0\n",
        " \n",
        "    return self._bijector_fn(y0, self._bijector_input_units(),\n",
        "                             **condition_kwargs).inverse_log_det_jacobian(\n",
        "                                 y1, event_ndims=1)"
      ],
      "execution_count": null,
      "outputs": []
    },
    {
      "cell_type": "code",
      "metadata": {
        "id": "dJ1xsNMSu7Hi"
      },
      "source": [
        "import tensorflow_probability as tfp; tfp = tfp.experimental.substrates.jax\n",
        "import flax \n",
        "from flax import nn\n",
        "import jax\n",
        "import jax.numpy as np\n",
        "import numpy as onp\n",
        "\n",
        "tfb = tfp.bijectors\n",
        "tfd = tfp.distributions"
      ],
      "execution_count": null,
      "outputs": []
    },
    {
      "cell_type": "code",
      "metadata": {
        "id": "IzZmEEhpvd7S"
      },
      "source": [
        "@nn.module\n",
        "def NeuralSpline(x, nunits=1, nbins=32):\n",
        "  def bin_positions(x):\n",
        "    x = np.reshape(x, [-1, nunits, nbins])\n",
        "    return nn.activation.softmax(x, axis=-1) *  (2. - nbins * 1e-2) + 1e-2\n",
        "  \n",
        "  def slopes(x):\n",
        "    x = np.reshape(x, [-1, nunits, nbins - 1])\n",
        "    return nn.activation.softplus(x) + 1e-2\n",
        "\n",
        "  # Let's have one more non stupid layer\n",
        "  net = nn.leaky_relu(nn.Dense(x, 128))\n",
        "  net = nn.leaky_relu(nn.Dense(net, 128))\n",
        "\n",
        "  bin_widths = bin_positions(nn.Dense(net, nunits*nbins))\n",
        "  bin_heights = bin_positions(nn.Dense(net, nunits*nbins))\n",
        "  knot_slopes = slopes(nn.Dense(net, nunits*(nbins-1)))\n",
        "\n",
        "  return tfb.RationalQuadraticSpline(\n",
        "            bin_widths=bin_widths,\n",
        "            bin_heights=bin_heights,\n",
        "            knot_slopes=knot_slopes)"
      ],
      "execution_count": null,
      "outputs": []
    },
    {
      "cell_type": "code",
      "metadata": {
        "id": "H7ua6h5j9zLg"
      },
      "source": [
        "@nn.module\n",
        "def ConditionalDensityEstimator(x):\n",
        "  # Some input processing\n",
        "  net = nn.BatchNorm(x)\n",
        "  net = nn.leaky_relu(nn.Dense(net, 512))\n",
        "  net = nn.BatchNorm(net)\n",
        "  net = nn.leaky_relu(nn.Dense(net, 512))\n",
        "  net = nn.BatchNorm(net)\n",
        "  net = nn.leaky_relu(nn.Dense(net, 512))\n",
        "\n",
        "\n",
        "  loc = nn.Dense(net,1)\n",
        "  scale= nn.softplus(nn.Dense(net,1))\n",
        "\n",
        "  spline1 = NeuralSpline.shared(name='spline1')\n",
        "  # spline2 = NeuralSpline.shared(name='spline2')  \n",
        "\n",
        "  # And here we define somdistributione simple normalizing flow\n",
        "  bijector_chain = tfb.Chain([       \n",
        "        tfb.Scale(3.5/2.),\n",
        "        tfb.Shift(1.0),\n",
        "        tfb.Tanh(),\n",
        "        tfb.Scale(10.),        \n",
        "        spline1(net),    \n",
        "        tfb.Scale(0.1)\n",
        "  ])\n",
        "\n",
        "  distribution = tfd.TransformedDistribution(tfd.Normal(loc=loc, scale=scale),\n",
        "                                             bijector_chain)\n",
        "  return distribution"
      ],
      "execution_count": null,
      "outputs": []
    },
    {
      "cell_type": "markdown",
      "metadata": {
        "id": "EpTMm_deG_ZT"
      },
      "source": [
        "TODO: could also get mutual information of true and photometric redshift to check information loss due to intermediate step. . ."
      ]
    },
    {
      "cell_type": "code",
      "metadata": {
        "id": "93nfE9Sgzi7u"
      },
      "source": [
        "batch_size = 512\n",
        "def get_batch(which_os='baseline_v1.4_10yrs'):\n",
        "  phot_cat = phot_cats[which_os]\n",
        "  inds = onp.random.choice(len(phot_cat), size=batch_size)\n",
        "  x = np.stack([phot_cat['u-g'][inds], phot_cat['g-r'][inds], phot_cat['r-i'][inds],\n",
        "                phot_cat['i-z'][inds], phot_cat['z-y'][inds] ]).astype('float32').T\n",
        "  y = np.array(phot_cat['z_true'][inds]).astype('float32').reshape((-1,1))\n",
        "  return {'x':x, 'y':y}"
      ],
      "execution_count": null,
      "outputs": []
    },
    {
      "cell_type": "code",
      "metadata": {
        "id": "ILSGCb221s8W"
      },
      "source": [
        "@jax.jit\n",
        "def train_step(optimizer, batch):\n",
        "  def loss_fn(model):\n",
        "    distribution = model(batch['x'])\n",
        "    loss = - np.mean(distribution.log_prob(batch['y']))\n",
        "    return loss\n",
        "  l, grad = jax.value_and_grad(loss_fn)(optimizer.target)\n",
        "\n",
        "  optimizer = optimizer.apply_gradient(grad)\n",
        "  return optimizer, l"
      ],
      "execution_count": null,
      "outputs": []
    },
    {
      "cell_type": "code",
      "metadata": {
        "id": "MSn0G4MrC_mO"
      },
      "source": [
        "_, initial_params = ConditionalDensityEstimator.init(jax.random.PRNGKey(0), jnp.zeros((1,5), dtype=np.float32))\n",
        "\n",
        "model = flax.nn.Model(ConditionalDensityEstimator, initial_params)\n",
        "\n",
        "optimizer = flax.optim.Adam(learning_rate=0.001).create(model)"
      ],
      "execution_count": null,
      "outputs": []
    },
    {
      "cell_type": "code",
      "metadata": {
        "id": "UMJj2fiq2Teu"
      },
      "source": [
        "all_losses, all_dist, all_batch = {}, {}, {}\n",
        "\n",
        "for which_os in available_os:\n",
        "  losses = []\n",
        "  dist = []\n",
        "  optimizer = flax.optim.Adam(learning_rate=0.001).create(model)\n",
        "  for epoch in range(10000):\n",
        "    batch = get_batch(which_os=which_os)\n",
        "    optimizer, l = train_step(optimizer, batch)\n",
        "    if epoch % 1000 == 0:\n",
        "      print(which_os, epoch, l)\n",
        "    losses.append(l)\n",
        "  dist = optimizer.target(batch['x'])\n",
        "  all_dist[which_os] = dist\n",
        "  all_losses[which_os] = losses\n",
        "  all_batch[which_os] = batch"
      ],
      "execution_count": null,
      "outputs": []
    },
    {
      "cell_type": "code",
      "metadata": {
        "id": "TzfpeqRO2iFd"
      },
      "source": [
        "# plot(np.array(losses[100:]))\n",
        "# xlabel('optimization iteration')\n",
        "# ylabel('loss function value')\n",
        "# title('[loss function described in words]')\n",
        "\n",
        "for i, which_os in enumerate(available_os):\n",
        "  plot(np.array(all_losses[which_os][100:])+float(i), linewidth=0.25, color=os_colors[which_os], label=str(i)+'+'+which_os)\n",
        "legend(loc='upper right')\n",
        "xlabel('optimization iteration')\n",
        "ylabel('loss function value')\n",
        "title('[loss function described in words]')\n",
        "tight_layout()"
      ],
      "execution_count": null,
      "outputs": []
    },
    {
      "cell_type": "code",
      "metadata": {
        "id": "2P7kOROw29vg"
      },
      "source": [
        "# batch = get_batch()\n",
        "# dist = optimizer.target(batch['x'])"
      ],
      "execution_count": null,
      "outputs": []
    },
    {
      "cell_type": "code",
      "metadata": {
        "id": "j6XQH9jAGitD"
      },
      "source": [
        "tx = np.linspace(0,3.5,100)\n",
        "all_logp = {}\n",
        "for which_os in available_os:\n",
        "  logp = all_dist[which_os].log_prob(tx)\n",
        "  all_logp[which_os] = logp"
      ],
      "execution_count": null,
      "outputs": []
    },
    {
      "cell_type": "code",
      "metadata": {
        "id": "igyVTTsc98OR"
      },
      "source": [
        "# tx = np.linspace(0,3.5,100)\n",
        "# logp = dist.log_prob(tx)"
      ],
      "execution_count": null,
      "outputs": []
    },
    {
      "cell_type": "code",
      "metadata": {
        "id": "oC3AFenn-BUu"
      },
      "source": [
        "# plot(tx, np.exp(logp[0]), label='photo-z posterior for galaxy 0')\n",
        "# axvline(batch['y'][0], linestyle='--', color='C0', label='true redshift of galaxy 0')\n",
        "# plot(tx, np.exp(logp[100]), label='photo-z posterior for galaxy 100')\n",
        "# axvline(batch['y'][100], linestyle='--', color='C1', label='true redshift of galaxy 100')\n",
        "# plot(tx, np.exp(logp[1000]), label='photo-z posterior for galaxy 1000')\n",
        "# axvline(batch['y'][1000], linestyle='--', color='C2', label='true redshift of galaxy 1000')\n",
        "# legend(loc='upper right')\n",
        "# xlabel(r'redshift $z$')\n",
        "# ylabel(r'posterior probability $q_\\theta(z | x_{phot})$')\n",
        "# title('A few example posteriors approximated by the normalizing flow')\n",
        "\n",
        "fig, ax = subplots(4, 1, figsize=(10, 20), sharex=True)\n",
        "for i, which_os in enumerate(available_os):\n",
        "  ax[i].set_ylabel(which_os+r' posterior $q_{\\theta}(z | x_{phot})$')\n",
        "  # ax[i].set_title(which_os)\n",
        "  logp = all_logp[which_os]\n",
        "  batch = all_batch[which_os]\n",
        "  ax[i].plot(tx, np.exp(logp[0]), color='#d62728', label='photo-z posterior for galaxy 0')\n",
        "  ax[i].axvline(batch['y'][0], linestyle='--', color='#d62728', label='true redshift of galaxy 0')\n",
        "  ax[i].plot(tx, np.exp(logp[100]), color='#9467bd',  label='photo-z posterior for galaxy 100')\n",
        "  ax[i].axvline(batch['y'][100], linestyle='--', color='#9467bd', label='true redshift of galaxy 100')\n",
        "  ax[i].plot(tx, np.exp(logp[1000]), color='#8c564b', label='photo-z posterior for galaxy 1000')\n",
        "  ax[i].axvline(batch['y'][1000], linestyle='--', color='#8c564b', label='true redshift of galaxy 1000')\n",
        "  ax[i].legend(loc='upper right')\n",
        "  if i == 3:\n",
        "    ax[i].set_xlabel(r'redshift $z$')\n",
        "fig.tight_layout()\n",
        "fig.show()"
      ],
      "execution_count": null,
      "outputs": []
    },
    {
      "cell_type": "markdown",
      "metadata": {
        "id": "n5X5XXnIHg5J"
      },
      "source": [
        "This plot should show the redshift posterior distribution for given photometry $q_\\theta(z | x_{phot})$. \n",
        "\n",
        "We are going to use that to compute our lower bound on the mutual information\n",
        "\n",
        "$$I(z; x_{phot})  \\geq \\mathbb{E}_{z, x_{phot}} \\left[ q_\\theta(z | x_{phot}) \\right]  + H(z)$$ \n",
        "\n",
        "The second term in this bound only depends on the true redshift distribution, which stays constant between observing strategies. Only the first term depends on the observed photometry, so it is the only one we have to compare between `OpSim` runs."
      ]
    },
    {
      "cell_type": "code",
      "metadata": {
        "id": "At8IrQ2s4NKl"
      },
      "source": [
        "all_milb = {}\n",
        "for which_os in available_os:\n",
        "  phot_cat = phot_cats[which_os]\n",
        "\n",
        "  x = np.stack([phot_cat['u-g'], phot_cat['g-r'], phot_cat['r-i'],\n",
        "              phot_cat['i-z'],phot_cat['z-y']]).astype('float32').T\n",
        "  y = np.array(phot_cat['z_true']).astype('float32').reshape((-1,1))\n",
        "\n",
        "  mutual_information_lower_bound = model(x).log_prob(y)\n",
        "  all_milb[which_os] = mutual_information_lower_bound"
      ],
      "execution_count": null,
      "outputs": []
    },
    {
      "cell_type": "code",
      "metadata": {
        "id": "gMUk6T3uNlIx"
      },
      "source": [
        "# surprisingly not so different from one another, but I think we do anticipate \"weather\" to have more weight at low values of the lower bound\n",
        "for which_os in available_os:\n",
        "  mutual_information_lower_bound = all_milb[which_os]\n",
        "  hist(-1.*np.log(-1.*mutual_information_lower_bound.flatten()), bins=50, alpha=0.3, color=os_colors[which_os], label=which_os)\n",
        "  xlabel(r'$-log[-\\mathbb{E}_{z, x_{phot}} \\left[ q_\\theta(z | x_{phot}) \\right]]$')\n",
        "xlim(-10., 5.)\n",
        "legend(loc='upper left')\n",
        "# semilogy()"
      ],
      "execution_count": null,
      "outputs": []
    },
    {
      "cell_type": "code",
      "metadata": {
        "id": "2IkkV3CXPI84"
      },
      "source": [
        "# #not very informative\n",
        "\n",
        "# fig, ax = subplots(4, 5, figsize=(25, 20), sharey=True)\n",
        "# for j, which_os in enumerate(available_os):\n",
        "#   phot_cat = phot_cats[which_os]\n",
        "#   mutual_information_lower_bound = all_milb[which_os]\n",
        "#   for i, col in enumerate(['u-g', 'g-r', 'r-i', 'i-z', 'z-y']):\n",
        "#     ax[j][i].set_xlabel(col)\n",
        "#     img = ax[j][i].scatter(phot_cat[col], mutual_information_lower_bound.flatten(), c=phot_cat['z_true'], cmap=mpl.cm.viridis_r, s=0.1)\n",
        "#     if i == 0:\n",
        "#       ax[j][i].set_ylabel(which_os+r' $\\mathbb{E}_{z, x_{phot}} \\left[ q_\\theta(z | x_{phot}) \\right]$')\n",
        "#     if i == 4:\n",
        "#       fig.colorbar(img, ax=ax[j][i], label=r'redshift $z$')\n",
        "#       ax[j][i].set_ylim(-5., 1.)\n",
        "# fig.tight_layout()\n",
        "# fig.show()"
      ],
      "execution_count": null,
      "outputs": []
    },
    {
      "cell_type": "code",
      "metadata": {
        "id": "byFZgHxD5MSN"
      },
      "source": [
        "# Contour/KDE won't work because of crazy outliers. . .\n",
        "\n",
        "# from scipy import stats as sps\n",
        "# def density_estimation(m1, m2):\n",
        "#     x = np.linspace(0., 2.5, 64)\n",
        "#     y = np.linspace(-5., 1., 64)\n",
        "#     X, Y = np.meshgrid(x, y)\n",
        "#     # X, Y = npo.mgrid[0.:2.5:64j, -5.:1.:64j]                                                     \n",
        "#     positions = npo.vstack([X.ravel(), Y.ravel()])                                                       \n",
        "#     values = npo.vstack([m1, m2])                                                                        \n",
        "#     kernel = sps.gaussian_kde(values)                                                                 \n",
        "#     Z = np.reshape(kernel(positions).T, X.shape)\n",
        "#     return X, Y, Z\n",
        "# (x, y, z) = density_estimation(phot_cat['z_true'], mutual_information_lower_bound.flatten())\n",
        "# contour(x, y, z)\n"
      ],
      "execution_count": null,
      "outputs": []
    },
    {
      "cell_type": "code",
      "metadata": {
        "id": "8LUGLRJbRluc"
      },
      "source": [
        "# for which_os in available_os:\n",
        "#   phot_cat = phot_cats[which_os]\n",
        "#   mutual_information_lower_bound = all_milb[which_os]\n",
        "#   hist2d (phot_cat['z_true'], mutual_information_lower_bound.flatten(), 64, \n",
        "#         range=[[0,2.5], [-5,1]], cmap=mpl.cm.viridis_r, norm=mpl.colors.LogNorm());\n",
        "#   colorbar()\n",
        "#   xlabel(r'redshift $z$')\n",
        "#   ylabel(r'$\\mathbb{E}_{z, x_{phot}} \\left[ q_\\theta(z | x_{phot}) \\right]$')\n",
        "#   title(which_os)\n",
        "#   show()\n",
        "\n",
        "# # hist2d (phot_cat['z_true'], mutual_information_lower_bound.flatten(), 64, \n",
        "# #         range=[[0,2.5], [-5,1]], cmap=mpl.cm.viridis_r, norm=mpl.colors.LogNorm());\n",
        "# # colorbar()\n",
        "\n",
        "# # # scatter(phot_cat['z_true'], mutual_information_lower_bound.flatten(), s=0.1)\n",
        "# # # xlim(0., 2.5)\n",
        "# # # ylim(-5., 1.)\n",
        "\n",
        "# # xlabel(r'redshift $z$')\n",
        "# # ylabel(r'$\\mathbb{E}_{z, x_{phot}} \\left[ q_\\theta(z | x_{phot}) \\right]$')\n",
        "# # title('TheLastMetric on '+just_one_os)"
      ],
      "execution_count": null,
      "outputs": []
    },
    {
      "cell_type": "code",
      "metadata": {
        "id": "xjqWR-xmbJQq"
      },
      "source": [
        "# for which_os in available_os:\n",
        "#   phot_cat = phot_cats[which_os]\n",
        "#   # for zran in \n",
        "#   mutual_information_lower_bound = all_milb[which_os]\n",
        "#   hist2d (phot_cat['z_true'], mutual_information_lower_bound.flatten(), 64, \n",
        "#         range=[[0,2.5], [-5,1]], cmap=mpl.cm.viridis_r, norm=mpl.colors.LogNorm());\n",
        "#   colorbar()\n",
        "#   xlabel(r'redshift $z$')\n",
        "#   ylabel(r'$\\mathbb{E}_{z, x_{phot}} \\left[ q_\\theta(z | x_{phot}) \\right]$')\n",
        "#   title(which_os)\n",
        "# show()\n",
        "\n",
        "# # hist2d (phot_cat['z_true'], mutual_information_lower_bound.flatten(), 64, \n",
        "# #         range=[[0,2.5], [-5,1]], cmap=mpl.cm.viridis_r, norm=mpl.colors.LogNorm());\n",
        "# # colorbar()\n",
        "\n",
        "# # # scatter(phot_cat['z_true'], mutual_information_lower_bound.flatten(), s=0.1)\n",
        "# # # xlim(0., 2.5)\n",
        "# # # ylim(-5., 1.)\n",
        "\n",
        "# # xlabel(r'redshift $z$')\n",
        "# # ylabel(r'$\\mathbb{E}_{z, x_{phot}} \\left[ q_\\theta(z | x_{phot}) \\right]$')\n",
        "# # title('TheLastMetric on '+just_one_os)"
      ],
      "execution_count": null,
      "outputs": []
    },
    {
      "cell_type": "code",
      "metadata": {
        "id": "wqPtnlwYDHZW"
      },
      "source": [
        "onp.histogram2d"
      ],
      "execution_count": null,
      "outputs": []
    },
    {
      "cell_type": "code",
      "metadata": {
        "id": "e3N56BmOLieI"
      },
      "source": [
        "# TODO: get rid of diagonal\n",
        "fig, ax = subplots(4, 4, figsize=(20, 20), sharey=True, sharex=True)\n",
        "hists = {}\n",
        "for j, base_os in enumerate(available_os):\n",
        "  phot_cat = phot_cats[base_os]\n",
        "  mutual_information_lower_bound = all_milb[base_os]\n",
        "  x = onp.linspace(0., 2.5, 64)\n",
        "  y = onp.linspace(-5., 1., 64)\n",
        "  h, x, y = onp.histogram2d(phot_cat['z_true'], mutual_information_lower_bound.flatten(), bins=(x, y), density=True)#64)#, extent=np.array([[0.,2.5], [-5.,1.]]))\n",
        "  hists[base_os] = h\n",
        "extrema = [0., 0.]\n",
        "for j, base_os in enumerate(available_os):\n",
        "  for i, comp_os in enumerate(available_os):\n",
        "    diff_hist = hists[base_os] - hists[comp_os]\n",
        "    comp_extrema = [onp.min(diff_hist), onp.max(diff_hist)]\n",
        "    extrema = [min(comp_extrema[0], extrema[0]), max(comp_extrema[1], extrema[1])]\n",
        "    img = ax[j][i].imshow(diff_hist.T, origin='lower', cmap=mpl.cm.viridis_r, vmin=-0.4, vmax=0.4, extent=[0.,2.5,-5.,1.], aspect='auto')\n",
        "    ax[j][i].text(0., 1.1, base_os+' - '+comp_os)\n",
        "    ax[j][i].set_ylabel(r'$\\Delta\\mathbb{E}_{z, x_{phot}} \\left[ q_\\theta(z | x_{phot}) \\right]$')\n",
        "    fig.colorbar(img, ax=ax[j][i])\n",
        "    ax[j][i].set_xlabel(r'redshift $z$')\n",
        "fig.tight_layout()\n",
        "fig.show()\n",
        "print(extrema)"
      ],
      "execution_count": null,
      "outputs": []
    },
    {
      "cell_type": "code",
      "metadata": {
        "id": "rqIfP3xQOHPj"
      },
      "source": [
        "# next step: make corner plot of differences between distributions as 2D histograms, since contour/KDE fails"
      ],
      "execution_count": null,
      "outputs": []
    },
    {
      "cell_type": "code",
      "metadata": {
        "id": "x9dOrSjS5NEr"
      },
      "source": [
        "# mutual_information_lower_bound"
      ],
      "execution_count": null,
      "outputs": []
    },
    {
      "cell_type": "markdown",
      "metadata": {
        "id": "wh9LWrXUJJaq"
      },
      "source": [
        "## Computing the bound for various opsim runs"
      ]
    },
    {
      "cell_type": "code",
      "metadata": {
        "id": "V2CsnIftJIyd"
      },
      "source": [
        "test_cat = Table.read('dataset/weather_1.2_v1.4_10yrs/test.cat', format='ascii')\n",
        "\n",
        "names_z=('ID', 'z_true', 'z_phot', 'dz_phot', 'NN', 'N_train')\n",
        "z_cat = Table.read('dataset/weather_1.2_v1.4_10yrs/zphot.cat', \n",
        "                       format='ascii', \n",
        "                       names=names_z)\n",
        "\n",
        "names_phot=('ID', 'z_true', \n",
        "        'u', 'g', 'r', 'i', 'z', 'y', \n",
        "        'err_u', 'err_g', 'err_r', 'err_i', 'err_z', 'err_y', \n",
        "        'u-g', 'g-r', 'r-i', 'i-z', 'z-y',\n",
        "        'err_u-g', 'err_g-r', 'err_r-i', 'err_i-z', 'err_z-y')\n",
        "phot_cat = Table.read('dataset/weather_1.2_v1.4_10yrs/test.cat', \n",
        "                       format='ascii', \n",
        "                       names=names_phot)\n",
        "phot_cat = Table.from_pandas(phot_cat.to_pandas().dropna())"
      ],
      "execution_count": null,
      "outputs": []
    },
    {
      "cell_type": "code",
      "metadata": {
        "id": "0C5HyzG_IrPm"
      },
      "source": [
        "batch_size = 512\n",
        "def get_batch():\n",
        "  inds = onp.random.choice(len(phot_cat), size=batch_size)\n",
        "  x = np.stack([phot_cat['u-g'][inds], phot_cat['g-r'][inds], phot_cat['r-i'][inds],\n",
        "                phot_cat['i-z'][inds],phot_cat['z-y'][inds] ]).astype('float32').T\n",
        "  y = np.array(phot_cat['z_true'][inds]).astype('float32').reshape((-1,1))\n",
        "  return {'x':x, 'y':y}"
      ],
      "execution_count": null,
      "outputs": []
    },
    {
      "cell_type": "code",
      "metadata": {
        "id": "n9Lho0xAJm0f"
      },
      "source": [
        "_, initial_params = ConditionalDensityEstimator.init_by_shape(jax.random.PRNGKey(0),\n",
        "                                           [((1, 5), np.float32)])\n",
        "\n",
        "model = flax.nn.Model(ConditionalDensityEstimator, initial_params)\n",
        "\n",
        "optimizer = flax.optim.Adam(learning_rate=0.001).create(model)\n",
        "\n",
        "losses = []"
      ],
      "execution_count": null,
      "outputs": []
    },
    {
      "cell_type": "code",
      "metadata": {
        "id": "gBv5Md4zJ2lk"
      },
      "source": [
        "for epoch in range(10000):\n",
        "  batch = get_batch()\n",
        "  optimizer, l = train_step(optimizer, batch)\n",
        "  if epoch % 1000 == 0:\n",
        "    print(epoch, l)\n",
        "  losses.append(l)"
      ],
      "execution_count": null,
      "outputs": []
    },
    {
      "cell_type": "code",
      "metadata": {
        "id": "gYeCrS1PKOG1"
      },
      "source": [
        "plot(np.array(losses[2000:]))"
      ],
      "execution_count": null,
      "outputs": []
    },
    {
      "cell_type": "code",
      "metadata": {
        "id": "ipqtyrySJ553"
      },
      "source": [
        "batch = get_batch()\n",
        "dist = optimizer.target(batch['x'])"
      ],
      "execution_count": null,
      "outputs": []
    },
    {
      "cell_type": "code",
      "metadata": {
        "id": "S0HKxpuRJ8ug"
      },
      "source": [
        "tx = np.linspace(0,3.5,100)\n",
        "logp = dist.log_prob(tx)"
      ],
      "execution_count": null,
      "outputs": []
    },
    {
      "cell_type": "code",
      "metadata": {
        "id": "P4kRy82QJ-0z"
      },
      "source": [
        "plot(tx, np.exp(logp[0]))\n",
        "axvline(batch['y'][0], color='C0')\n",
        "plot(tx, np.exp(logp[1]))\n",
        "axvline(batch['y'][1], color='C1')"
      ],
      "execution_count": null,
      "outputs": []
    },
    {
      "cell_type": "code",
      "metadata": {
        "id": "qaYpMDNjKDPt"
      },
      "source": [
        "x = np.stack([phot_cat['u-g'], phot_cat['g-r'], phot_cat['r-i'],\n",
        "              phot_cat['i-z'],phot_cat['z-y']]).astype('float32').T\n",
        "y = np.array(phot_cat['z_true']).astype('float32').reshape((-1,1))\n",
        "\n",
        "mutual_information_lower_bound = model(x).log_prob(y)"
      ],
      "execution_count": null,
      "outputs": []
    },
    {
      "cell_type": "code",
      "metadata": {
        "id": "TijBljyqKBJP"
      },
      "source": [
        "np.mean(mutual_information_lower_bound)"
      ],
      "execution_count": null,
      "outputs": []
    },
    {
      "cell_type": "code",
      "metadata": {
        "id": "ECe1eLG7KHkn"
      },
      "source": [
        "hist2d(phot_cat['z_true'], mutual_information_lower_bound.flatten(), 64,\n",
        "       range=[[0,2.5], [-5,1]]);\n",
        "xlabel('Redshift')\n",
        "ylabel(r'$\\mathbb{E}_{z, phot} \\left[ q_\\theta(z | phot ) \\right]$')\n",
        "title('weather_1.2_v1.4_10yrs')"
      ],
      "execution_count": null,
      "outputs": []
    },
    {
      "cell_type": "code",
      "metadata": {
        "id": "KHVFugoKMC69"
      },
      "source": [
        "mutual_information_lower_bound.shape"
      ],
      "execution_count": null,
      "outputs": []
    },
    {
      "cell_type": "code",
      "metadata": {
        "id": "vpIZjcDsMH40"
      },
      "source": [
        ""
      ],
      "execution_count": null,
      "outputs": []
    },
    {
      "cell_type": "code",
      "metadata": {
        "id": "ry878mOxlWoW"
      },
      "source": [
        ""
      ],
      "execution_count": null,
      "outputs": []
    }
  ]
}