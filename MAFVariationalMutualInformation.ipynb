{
  "nbformat": 4,
  "nbformat_minor": 0,
  "metadata": {
    "colab": {
      "name": "MAFVariationalMutualInformation.ipynb",
      "provenance": [],
      "authorship_tag": "ABX9TyN4WPnPwPvFhjUj63yZpHkf",
      "include_colab_link": true
    },
    "kernelspec": {
      "name": "python3",
      "display_name": "Python 3"
    },
    "accelerator": "GPU"
  },
  "cells": [
    {
      "cell_type": "markdown",
      "metadata": {
        "id": "view-in-github",
        "colab_type": "text"
      },
      "source": [
        "<a href=\"https://colab.research.google.com/github/LSSTDESC/TheLastMetric/blob/master/MAFVariationalMutualInformation.ipynb\" target=\"_parent\"><img src=\"https://colab.research.google.com/assets/colab-badge.svg\" alt=\"Open In Colab\"/></a>"
      ]
    },
    {
      "cell_type": "markdown",
      "metadata": {
        "id": "talJxDz8s2CM",
        "colab_type": "text"
      },
      "source": [
        "# Testing Mutual Information Metric for Photoz"
      ]
    },
    {
      "cell_type": "markdown",
      "metadata": {
        "id": "fyivJdJCvH7h",
        "colab_type": "text"
      },
      "source": [
        "## Loading the data"
      ]
    },
    {
      "cell_type": "code",
      "metadata": {
        "id": "HZj13_soq0Hv",
        "colab_type": "code",
        "colab": {
          "base_uri": "https://localhost:8080/",
          "height": 35
        },
        "outputId": "51b212cf-a575-4c6a-b0d4-1eece28caa56"
      },
      "source": [
        "!wget --quiet -O dataset.tar https://drive.google.com/u/0/uc?id=1wZ3UCdZyBKytp5ZS2wk5epOOy7BpYidU&export=download\n",
        "!tar -xf dataset.tar\n",
        "!mv for_francois dataset"
      ],
      "execution_count": 1,
      "outputs": [
        {
          "output_type": "stream",
          "text": [
            "mv: cannot move 'for_francois' to 'dataset/for_francois': Directory not empty\n"
          ],
          "name": "stdout"
        }
      ]
    },
    {
      "cell_type": "code",
      "metadata": {
        "id": "08-S11bxrRZ_",
        "colab_type": "code",
        "colab": {}
      },
      "source": [
        "more dataset/README.txt"
      ],
      "execution_count": 5,
      "outputs": []
    },
    {
      "cell_type": "code",
      "metadata": {
        "id": "w0SZFBkerVyq",
        "colab_type": "code",
        "colab": {}
      },
      "source": [
        "from astropy.table import Table\n",
        "test_cat = Table.read('dataset/baseline_v1.4_10yrs/test.cat', format='ascii')\n",
        "\n",
        "names_z=('ID', 'z_true', 'z_phot', 'dz_phot', 'NN', 'N_train')\n",
        "z_cat = Table.read('dataset/baseline_v1.4_10yrs/zphot.cat', \n",
        "                       format='ascii', \n",
        "                       names=names_z)\n",
        "\n",
        "names_phot=('ID', 'z_true', \n",
        "        'u', 'g', 'r', 'i', 'z', 'y', \n",
        "        'err_u', 'err_g', 'err_r', 'err_i', 'err_z', 'err_y', \n",
        "        'u-g', 'g-r', 'r-i', 'i-z', 'z-y',\n",
        "        'err_u-g', 'err_g-r', 'err_r-i', 'err_i-z', 'err_z-y')\n",
        "phot_cat = Table.read('dataset/baseline_v1.4_10yrs/test.cat', \n",
        "                       format='ascii', \n",
        "                       names=names_phot)"
      ],
      "execution_count": 18,
      "outputs": []
    },
    {
      "cell_type": "code",
      "metadata": {
        "id": "zmrz26cxtU_U",
        "colab_type": "code",
        "colab": {
          "base_uri": "https://localhost:8080/",
          "height": 539
        },
        "outputId": "1cac26bd-68ed-4fed-ca4c-12c8990d8d8d"
      },
      "source": [
        "phot_cat"
      ],
      "execution_count": 19,
      "outputs": [
        {
          "output_type": "execute_result",
          "data": {
            "text/html": [
              "<i>Table length=50000</i>\n",
              "<table id=\"table140429076859816\" class=\"table-striped table-bordered table-condensed\">\n",
              "<thead><tr><th>ID</th><th>z_true</th><th>u</th><th>g</th><th>r</th><th>i</th><th>z</th><th>y</th><th>err_u</th><th>err_g</th><th>err_r</th><th>err_i</th><th>err_z</th><th>err_y</th><th>u-g</th><th>g-r</th><th>r-i</th><th>i-z</th><th>z-y</th><th>err_u-g</th><th>err_g-r</th><th>err_r-i</th><th>err_i-z</th><th>err_z-y</th></tr></thead>\n",
              "<thead><tr><th>int64</th><th>float64</th><th>float64</th><th>float64</th><th>float64</th><th>float64</th><th>float64</th><th>float64</th><th>float64</th><th>float64</th><th>float64</th><th>float64</th><th>float64</th><th>float64</th><th>float64</th><th>float64</th><th>float64</th><th>float64</th><th>float64</th><th>float64</th><th>float64</th><th>float64</th><th>float64</th><th>float64</th></tr></thead>\n",
              "<tr><td>5142370</td><td>1.61149</td><td>24.121025</td><td>0.053106</td><td>24.084064</td><td>0.021194</td><td>24.181071</td><td>0.020409</td><td>24.123542</td><td>0.028792</td><td>23.935485</td><td>0.044166</td><td>23.675364</td><td>0.074801</td><td>0.036961</td><td>0.057179</td><td>-0.097007</td><td>0.029423</td><td>0.057529</td><td>0.035292</td><td>0.188057</td><td>0.052722</td><td>0.260121</td><td>0.086867</td></tr>\n",
              "<tr><td>10264978</td><td>0.6093701</td><td>25.452115</td><td>0.146893</td><td>25.112487</td><td>0.047829</td><td>24.362166</td><td>0.02385</td><td>23.863323</td><td>0.024224</td><td>23.721593</td><td>0.036951</td><td>23.736725</td><td>0.072242</td><td>0.339628</td><td>0.154484</td><td>0.750321</td><td>0.053446</td><td>0.498843</td><td>0.033995</td><td>0.14173</td><td>0.044184</td><td>-0.015132</td><td>0.081144</td></tr>\n",
              "<tr><td>5218585</td><td>1.6459169</td><td>24.856706</td><td>0.105304</td><td>24.879009</td><td>0.04023</td><td>24.947009</td><td>0.038844</td><td>24.962829</td><td>0.059123</td><td>24.902079</td><td>0.098635</td><td>nan</td><td>nan</td><td>-0.022303</td><td>0.112727</td><td>-0.068</td><td>0.055922</td><td>-0.01582</td><td>0.070741</td><td>0.06075</td><td>0.114998</td><td>nan</td><td>nan</td></tr>\n",
              "<tr><td>11234975</td><td>0.9162506</td><td>nan</td><td>nan</td><td>25.617169</td><td>0.07395</td><td>25.367718</td><td>0.059883</td><td>24.832926</td><td>0.052833</td><td>24.435467</td><td>0.072017</td><td>24.543781</td><td>0.147004</td><td>nan</td><td>nan</td><td>0.249451</td><td>0.095156</td><td>0.534792</td><td>0.079858</td><td>0.397458</td><td>0.089318</td><td>-0.108313</td><td>0.163697</td></tr>\n",
              "<tr><td>14377082</td><td>1.4589336</td><td>24.812845</td><td>0.099648</td><td>24.708982</td><td>0.036467</td><td>24.659695</td><td>0.031157</td><td>24.417965</td><td>0.036453</td><td>23.912078</td><td>0.041897</td><td>23.50922</td><td>0.056821</td><td>0.103862</td><td>0.106111</td><td>0.049287</td><td>0.047964</td><td>0.24173</td><td>0.047954</td><td>0.505887</td><td>0.055536</td><td>0.402858</td><td>0.070597</td></tr>\n",
              "<tr><td>1763375</td><td>0.8317933</td><td>25.239161</td><td>0.167837</td><td>25.307067</td><td>0.062421</td><td>25.126998</td><td>0.04635</td><td>24.42418</td><td>0.036193</td><td>24.12068</td><td>0.051602</td><td>24.131831</td><td>0.101631</td><td>-0.067906</td><td>0.179069</td><td>0.180069</td><td>0.077747</td><td>0.702819</td><td>0.058807</td><td>0.3035</td><td>0.063029</td><td>-0.011151</td><td>0.113981</td></tr>\n",
              "<tr><td>7447092</td><td>1.6073463</td><td>24.761218</td><td>0.101785</td><td>24.784247</td><td>0.037954</td><td>24.998465</td><td>0.040439</td><td>24.650014</td><td>0.051406</td><td>24.467265</td><td>0.07371</td><td>24.47997</td><td>0.119431</td><td>-0.023029</td><td>0.10863</td><td>-0.214218</td><td>0.05546</td><td>0.348451</td><td>0.065405</td><td>0.182749</td><td>0.089865</td><td>-0.012705</td><td>0.140346</td></tr>\n",
              "<tr><td>10216960</td><td>0.37455308</td><td>nan</td><td>nan</td><td>24.9261</td><td>0.04246</td><td>23.942666</td><td>0.016833</td><td>23.693673</td><td>0.020557</td><td>23.573041</td><td>0.030371</td><td>23.475205</td><td>0.059145</td><td>nan</td><td>nan</td><td>0.983433</td><td>0.045675</td><td>0.248993</td><td>0.02657</td><td>0.120632</td><td>0.036674</td><td>0.097836</td><td>0.066487</td></tr>\n",
              "<tr><td>8482528</td><td>1.7008493</td><td>24.417782</td><td>0.077821</td><td>24.231526</td><td>0.024681</td><td>24.613342</td><td>0.029089</td><td>24.139406</td><td>0.030481</td><td>23.781078</td><td>0.038448</td><td>23.650186</td><td>0.065284</td><td>0.186256</td><td>0.081641</td><td>-0.381816</td><td>0.038149</td><td>0.473935</td><td>0.042134</td><td>0.358329</td><td>0.049065</td><td>0.130892</td><td>0.075765</td></tr>\n",
              "<tr><td>18058</td><td>0.9633236</td><td>24.885715</td><td>0.111038</td><td>25.021937</td><td>0.046457</td><td>25.077632</td><td>0.043183</td><td>24.767374</td><td>0.048662</td><td>24.433121</td><td>0.066705</td><td>24.269179</td><td>0.13901</td><td>-0.136222</td><td>0.120365</td><td>-0.055694</td><td>0.063427</td><td>0.310257</td><td>0.06506</td><td>0.334254</td><td>0.082569</td><td>0.163942</td><td>0.154186</td></tr>\n",
              "<tr><td>...</td><td>...</td><td>...</td><td>...</td><td>...</td><td>...</td><td>...</td><td>...</td><td>...</td><td>...</td><td>...</td><td>...</td><td>...</td><td>...</td><td>...</td><td>...</td><td>...</td><td>...</td><td>...</td><td>...</td><td>...</td><td>...</td><td>...</td><td>...</td></tr>\n",
              "<tr><td>10699010</td><td>1.1586661</td><td>25.161249</td><td>0.126323</td><td>25.137514</td><td>0.049245</td><td>24.999094</td><td>0.040711</td><td>24.731131</td><td>0.050326</td><td>23.932878</td><td>0.045764</td><td>23.806978</td><td>0.082332</td><td>0.023735</td><td>0.135582</td><td>0.13842</td><td>0.063894</td><td>0.267963</td><td>0.064731</td><td>0.798253</td><td>0.068023</td><td>0.125899</td><td>0.094197</td></tr>\n",
              "<tr><td>11514359</td><td>1.0056779</td><td>24.326949</td><td>0.072079</td><td>24.691343</td><td>0.03442</td><td>24.30547</td><td>0.022867</td><td>23.837301</td><td>0.023046</td><td>23.235684</td><td>0.023292</td><td>23.1259</td><td>0.042425</td><td>-0.364393</td><td>0.079876</td><td>0.385873</td><td>0.041324</td><td>0.468169</td><td>0.032465</td><td>0.601617</td><td>0.032766</td><td>0.109785</td><td>0.048399</td></tr>\n",
              "<tr><td>4418785</td><td>0.48801935</td><td>23.988959</td><td>0.052136</td><td>23.739475</td><td>0.016259</td><td>22.720102</td><td>0.006785</td><td>22.440882</td><td>0.007895</td><td>22.312319</td><td>0.009725</td><td>22.305226</td><td>0.019227</td><td>0.249484</td><td>0.054612</td><td>1.019373</td><td>0.017618</td><td>0.27922</td><td>0.010411</td><td>0.128563</td><td>0.012527</td><td>0.007093</td><td>0.021546</td></tr>\n",
              "<tr><td>8884538</td><td>0.568287</td><td>25.137582</td><td>0.153993</td><td>25.193408</td><td>0.05266</td><td>24.464121</td><td>0.02614</td><td>24.201853</td><td>0.03033</td><td>24.14502</td><td>0.051</td><td>24.104996</td><td>0.103181</td><td>-0.055827</td><td>0.162748</td><td>0.729287</td><td>0.058791</td><td>0.262268</td><td>0.04004</td><td>0.056833</td><td>0.059337</td><td>0.040024</td><td>0.115097</td></tr>\n",
              "<tr><td>13400965</td><td>1.4810922</td><td>24.520721</td><td>0.076187</td><td>24.598164</td><td>0.030961</td><td>24.573025</td><td>0.02899</td><td>24.391722</td><td>0.039933</td><td>24.208145</td><td>0.055163</td><td>23.878044</td><td>0.079777</td><td>-0.077443</td><td>0.082237</td><td>0.025139</td><td>0.042415</td><td>0.181304</td><td>0.049346</td><td>0.183577</td><td>0.0681</td><td>0.330101</td><td>0.096992</td></tr>\n",
              "<tr><td>14397855</td><td>0.61729276</td><td>22.35228</td><td>0.015766</td><td>22.080703</td><td>0.005925</td><td>21.379873</td><td>0.005</td><td>20.870425</td><td>0.005</td><td>20.732677</td><td>0.005</td><td>20.655375</td><td>0.005</td><td>0.271577</td><td>0.016842</td><td>0.700831</td><td>0.007753</td><td>0.509448</td><td>0.007071</td><td>0.137748</td><td>0.007071</td><td>0.077302</td><td>0.007071</td></tr>\n",
              "<tr><td>7802797</td><td>1.4070022</td><td>24.310817</td><td>0.066381</td><td>24.540088</td><td>0.029989</td><td>24.541476</td><td>0.028616</td><td>24.461149</td><td>0.040457</td><td>24.32049</td><td>0.057214</td><td>23.883895</td><td>0.088043</td><td>-0.229271</td><td>0.07284</td><td>-0.001388</td><td>0.041451</td><td>0.080327</td><td>0.049555</td><td>0.140659</td><td>0.070073</td><td>0.436596</td><td>0.105</td></tr>\n",
              "<tr><td>13596631</td><td>1.0279839</td><td>24.827324</td><td>0.112767</td><td>25.006379</td><td>0.046138</td><td>24.982716</td><td>0.040795</td><td>24.726936</td><td>0.046983</td><td>24.194138</td><td>0.05429</td><td>24.021585</td><td>0.108712</td><td>-0.179055</td><td>0.121841</td><td>0.023662</td><td>0.061587</td><td>0.25578</td><td>0.062222</td><td>0.532797</td><td>0.071797</td><td>0.172554</td><td>0.121514</td></tr>\n",
              "<tr><td>2249420</td><td>0.59973764</td><td>24.377532</td><td>0.076603</td><td>24.348074</td><td>0.025946</td><td>23.57858</td><td>0.012675</td><td>23.085684</td><td>0.012725</td><td>22.928451</td><td>0.017445</td><td>22.868302</td><td>0.034051</td><td>0.029458</td><td>0.080878</td><td>0.769493</td><td>0.028877</td><td>0.492897</td><td>0.017961</td><td>0.157233</td><td>0.021593</td><td>0.060149</td><td>0.03826</td></tr>\n",
              "<tr><td>13384704</td><td>0.8507395</td><td>24.758625</td><td>0.109981</td><td>24.847785</td><td>0.041477</td><td>24.689588</td><td>0.030145</td><td>23.892692</td><td>0.024026</td><td>23.602361</td><td>0.031656</td><td>23.499145</td><td>0.062005</td><td>-0.08916</td><td>0.117543</td><td>0.158197</td><td>0.051274</td><td>0.796896</td><td>0.038548</td><td>0.290331</td><td>0.039741</td><td>0.103216</td><td>0.069618</td></tr>\n",
              "</table>"
            ],
            "text/plain": [
              "<Table length=50000>\n",
              "   ID      z_true       u        g     ... err_g-r  err_r-i   err_i-z  err_z-y \n",
              " int64    float64    float64  float64  ... float64  float64   float64  float64 \n",
              "-------- ---------- --------- -------- ... -------- -------- --------- --------\n",
              " 5142370    1.61149 24.121025 0.053106 ... 0.188057 0.052722  0.260121 0.086867\n",
              "10264978  0.6093701 25.452115 0.146893 ...  0.14173 0.044184 -0.015132 0.081144\n",
              " 5218585  1.6459169 24.856706 0.105304 ...  0.06075 0.114998       nan      nan\n",
              "11234975  0.9162506       nan      nan ... 0.397458 0.089318 -0.108313 0.163697\n",
              "14377082  1.4589336 24.812845 0.099648 ... 0.505887 0.055536  0.402858 0.070597\n",
              " 1763375  0.8317933 25.239161 0.167837 ...   0.3035 0.063029 -0.011151 0.113981\n",
              " 7447092  1.6073463 24.761218 0.101785 ... 0.182749 0.089865 -0.012705 0.140346\n",
              "10216960 0.37455308       nan      nan ... 0.120632 0.036674  0.097836 0.066487\n",
              " 8482528  1.7008493 24.417782 0.077821 ... 0.358329 0.049065  0.130892 0.075765\n",
              "   18058  0.9633236 24.885715 0.111038 ... 0.334254 0.082569  0.163942 0.154186\n",
              "     ...        ...       ...      ... ...      ...      ...       ...      ...\n",
              "10699010  1.1586661 25.161249 0.126323 ... 0.798253 0.068023  0.125899 0.094197\n",
              "11514359  1.0056779 24.326949 0.072079 ... 0.601617 0.032766  0.109785 0.048399\n",
              " 4418785 0.48801935 23.988959 0.052136 ... 0.128563 0.012527  0.007093 0.021546\n",
              " 8884538   0.568287 25.137582 0.153993 ... 0.056833 0.059337  0.040024 0.115097\n",
              "13400965  1.4810922 24.520721 0.076187 ... 0.183577   0.0681  0.330101 0.096992\n",
              "14397855 0.61729276  22.35228 0.015766 ... 0.137748 0.007071  0.077302 0.007071\n",
              " 7802797  1.4070022 24.310817 0.066381 ... 0.140659 0.070073  0.436596    0.105\n",
              "13596631  1.0279839 24.827324 0.112767 ... 0.532797 0.071797  0.172554 0.121514\n",
              " 2249420 0.59973764 24.377532 0.076603 ... 0.157233 0.021593  0.060149  0.03826\n",
              "13384704  0.8507395 24.758625 0.109981 ... 0.290331 0.039741  0.103216 0.069618"
            ]
          },
          "metadata": {
            "tags": []
          },
          "execution_count": 19
        }
      ]
    },
    {
      "cell_type": "code",
      "metadata": {
        "id": "giQ6d2g0zImm",
        "colab_type": "code",
        "colab": {
          "base_uri": "https://localhost:8080/",
          "height": 465
        },
        "outputId": "7b6c4fea-e5fc-4026-9680-2d56614f70f4"
      },
      "source": [
        "%pylab inline\n",
        "hist(phot_cat['z_true'])"
      ],
      "execution_count": 22,
      "outputs": [
        {
          "output_type": "stream",
          "text": [
            "Populating the interactive namespace from numpy and matplotlib\n"
          ],
          "name": "stdout"
        },
        {
          "output_type": "stream",
          "text": [
            "/usr/local/lib/python3.6/dist-packages/IPython/core/magics/pylab.py:161: UserWarning: pylab import has clobbered these variables: ['np']\n",
            "`%matplotlib` prevents importing * from pylab and numpy\n",
            "  \"\\n`%matplotlib` prevents importing * from pylab and numpy\"\n"
          ],
          "name": "stderr"
        },
        {
          "output_type": "execute_result",
          "data": {
            "text/plain": [
              "(array([ 4561., 10575., 11723.,  8702.,  6509.,  4299.,  1959.,  1042.,\n",
              "          531.,    99.]),\n",
              " array([0.01445425, 0.32407044, 0.63368664, 0.94330283, 1.25291903,\n",
              "        1.56253522, 1.87215142, 2.18176762, 2.49138381, 2.801     ,\n",
              "        3.1106162 ]),\n",
              " <a list of 10 Patch objects>)"
            ]
          },
          "metadata": {
            "tags": []
          },
          "execution_count": 22
        },
        {
          "output_type": "display_data",
          "data": {
            "image/png": "[encoded data removed]",
            "text/plain": [
              "<Figure size 432x288 with 1 Axes>"
            ]
          },
          "metadata": {
            "tags": [],
            "needs_background": "light"
          }
        }
      ]
    },
    {
      "cell_type": "markdown",
      "metadata": {
        "id": "G8e-Xq4JvGDs",
        "colab_type": "text"
      },
      "source": [
        "## Building a Mutual Information Lower Bound"
      ]
    },
    {
      "cell_type": "code",
      "metadata": {
        "id": "LNy10URIvg4B",
        "colab_type": "code",
        "colab": {
          "base_uri": "https://localhost:8080/",
          "height": 35
        },
        "outputId": "0f4cfa23-5ef5-4041-fb03-e8a4f7536a6a"
      },
      "source": [
        "!pip install --quiet flax"
      ],
      "execution_count": 11,
      "outputs": [
        {
          "output_type": "stream",
          "text": [
            "\u001b[?25l\r\u001b[K     |███▉                            | 10kB 32.4MB/s eta 0:00:01\r\u001b[K     |███████▊                        | 20kB 2.9MB/s eta 0:00:01\r\u001b[K     |███████████▋                    | 30kB 3.9MB/s eta 0:00:01\r\u001b[K     |███████████████▌                | 40kB 4.2MB/s eta 0:00:01\r\u001b[K     |███████████████████▍            | 51kB 3.4MB/s eta 0:00:01\r\u001b[K     |███████████████████████▎        | 61kB 3.8MB/s eta 0:00:01\r\u001b[K     |███████████████████████████▏    | 71kB 4.1MB/s eta 0:00:01\r\u001b[K     |███████████████████████████████ | 81kB 4.4MB/s eta 0:00:01\r\u001b[K     |████████████████████████████████| 92kB 3.6MB/s \n",
            "\u001b[?25h"
          ],
          "name": "stdout"
        }
      ]
    },
    {
      "cell_type": "code",
      "metadata": {
        "id": "dJ1xsNMSu7Hi",
        "colab_type": "code",
        "colab": {}
      },
      "source": [
        "import tensorflow_probability as tfp; tfp = tfp.experimental.substrates.jax\n",
        "import flax \n",
        "from flax import nn\n",
        "import jax\n",
        "import jax.numpy as np\n",
        "import numpy as onp\n",
        "\n",
        "tfb = tfp.bijectors\n",
        "tfd = tfp.distributions"
      ],
      "execution_count": 13,
      "outputs": []
    },
    {
      "cell_type": "code",
      "metadata": {
        "id": "IzZmEEhpvd7S",
        "colab_type": "code",
        "colab": {}
      },
      "source": [
        "@nn.module\n",
        "def NeuralSpline(x, nunits=1, nbins=32):\n",
        "  def bin_positions(x):\n",
        "    x = np.reshape(x, [-1, nunits, nbins])\n",
        "    return nn.activation.softmax(x, axis=-1) *  (2. - nbins * 1e-2) + 1e-2\n",
        "  \n",
        "  def slopes(x):\n",
        "    x = np.reshape(x, [-1, nunits, nbins - 1])\n",
        "    return nn.activation.softplus(x) + 1e-2\n",
        "\n",
        "  # Let's have one more non stupid layer\n",
        "  net = nn.leaky_relu(nn.Dense(x, 128))\n",
        "  net = nn.BatchNorm(net)\n",
        "  net = nn.leaky_relu(nn.Dense(net, 128))\n",
        "  net = nn.BatchNorm(net)\n",
        "\n",
        "  bin_widths = bin_positions(nn.Dense(net, nunits*nbins))\n",
        "  bin_heights = bin_positions(nn.Dense(net, nunits*nbins))\n",
        "  knot_slopes = slopes(nn.Dense(net, nunits*(nbins-1)))\n",
        "\n",
        "  return tfb.RationalQuadraticSpline(\n",
        "            bin_widths=bin_widths,\n",
        "            bin_heights=bin_heights,\n",
        "            knot_slopes=knot_slopes)"
      ],
      "execution_count": 21,
      "outputs": []
    },
    {
      "cell_type": "code",
      "metadata": {
        "id": "nllxG9eHwESC",
        "colab_type": "code",
        "colab": {}
      },
      "source": [
        "# Now we define some sort of normalizing flow\n",
        "@nn.module\n",
        "def ConditionalDensityEstimator(x):\n",
        "  # Some input processing\n",
        "  net = nn.BatchNorm(x)\n",
        "  net = nn.leaky_relu(nn.Dense(x, 128))\n",
        "  net = nn.BatchNorm(net)\n",
        "  net = nn.leaky_relu(nn.Dense(net, 128))\n",
        "\n",
        "  spline1 = NeuralSpline.shared(name='spline1')\n",
        "  spline2 = NeuralSpline.shared(name='spline2')  \n",
        "\n",
        "  # And here we define some simple normalizing flow\n",
        "  bijector_chain = tfb.Chain([\n",
        "        tfb.Shift(1.0),\n",
        "        tfb.Tanh(),               \n",
        "        spline1(x),        \n",
        "        spline2(x),\n",
        "        tfb.Scale(0.1)\n",
        "  ])\n",
        "\n",
        "  distribution = tfd.TransformedDistribution(tfd.Normal(loc=0., scale=1.),\n",
        "                                             bijector_chain)\n",
        "  return distribution"
      ],
      "execution_count": 38,
      "outputs": []
    },
    {
      "cell_type": "code",
      "metadata": {
        "id": "93nfE9Sgzi7u",
        "colab_type": "code",
        "colab": {}
      },
      "source": [
        "batch_size = 256\n",
        "def get_batch():\n",
        "  inds = onp.random.choice(50000, size=batch_size)\n",
        "  x = np.stack([phot_cat['u'][inds], phot_cat['g'][inds], phot_cat['r'][inds],\n",
        "                phot_cat['i'][inds]]).astype('float32').T\n",
        "  y = np.array(phot_cat['z_true'][inds]).astype('float32').reshape((-1,1))\n",
        "  return {'x':x, 'y':y}"
      ],
      "execution_count": 39,
      "outputs": []
    },
    {
      "cell_type": "code",
      "metadata": {
        "id": "ILSGCb221s8W",
        "colab_type": "code",
        "colab": {}
      },
      "source": [
        "@jax.jit\n",
        "def train_step(optimizer, batch):\n",
        "  def loss_fn(model):\n",
        "    distribution = model(batch['x'])\n",
        "    loss = - np.mean(distribution.log_prob(batch['y']))\n",
        "    return loss\n",
        "  l, grad = jax.value_and_grad(loss_fn)(optimizer.target)\n",
        "\n",
        "  optimizer = optimizer.apply_gradient(grad)\n",
        "  return optimizer, l\n",
        "\n",
        "_, initial_params = ConditionalDensityEstimator.init_by_shape(jax.random.PRNGKey(0),\n",
        "                                           [((1, 4), np.float32)])\n",
        "\n",
        "model = flax.nn.Model(ConditionalDensityEstimator, initial_params)\n",
        "\n",
        "optimizer = flax.optim.Adam(learning_rate=0.001).create(model)\n",
        "\n",
        "losses = []"
      ],
      "execution_count": 44,
      "outputs": []
    },
    {
      "cell_type": "code",
      "metadata": {
        "id": "UMJj2fiq2Teu",
        "colab_type": "code",
        "colab": {
          "base_uri": "https://localhost:8080/",
          "height": 145
        },
        "outputId": "8182292a-8e80-4e9e-bbf0-0f7f6131ee13"
      },
      "source": [
        "for epoch in range(10):\n",
        "  batch = get_batch()\n",
        "  optimizer, l = train_step(optimizer, batch)\n",
        "  losses.append(l)"
      ],
      "execution_count": 45,
      "outputs": [
        {
          "output_type": "stream",
          "text": [
            "/usr/local/lib/python3.6/dist-packages/jax/lax/lax.py:5946: UserWarning: Explicitly requested dtype <class 'jax.numpy.lax_numpy.int64'> requested in zeros is not available, and will be truncated to dtype int32. To enable more dtypes, set the jax_enable_x64 configuration option or the JAX_ENABLE_X64 shell environment variable. See https://github.com/google/jax#current-gotchas for more.\n",
            "  warnings.warn(msg.format(dtype, fun_name , truncated_dtype))\n",
            "/usr/local/lib/python3.6/dist-packages/jax/lax/lax.py:5946: UserWarning: Explicitly requested dtype <class 'jax.numpy.lax_numpy.int64'> requested in astype is not available, and will be truncated to dtype int32. To enable more dtypes, set the jax_enable_x64 configuration option or the JAX_ENABLE_X64 shell environment variable. See https://github.com/google/jax#current-gotchas for more.\n",
            "  warnings.warn(msg.format(dtype, fun_name , truncated_dtype))\n",
            "/usr/local/lib/python3.6/dist-packages/jax/numpy/lax_numpy.py:1601: FutureWarning: jax.numpy reductions won't accept lists and tuples in future versions, only scalars and ndarrays\n",
            "  warnings.warn(msg, category=FutureWarning)\n"
          ],
          "name": "stderr"
        }
      ]
    },
    {
      "cell_type": "code",
      "metadata": {
        "id": "TzfpeqRO2iFd",
        "colab_type": "code",
        "colab": {
          "base_uri": "https://localhost:8080/",
          "height": 301
        },
        "outputId": "e407ce32-5186-4749-ed10-03f535d55127"
      },
      "source": [
        "semilogy(np.array(losses[:]))\n",
        "legend()"
      ],
      "execution_count": 46,
      "outputs": [
        {
          "output_type": "stream",
          "text": [
            "WARNING:matplotlib.legend:No handles with labels found to put in legend.\n"
          ],
          "name": "stderr"
        },
        {
          "output_type": "execute_result",
          "data": {
            "text/plain": [
              "<matplotlib.legend.Legend at 0x7fb836e65860>"
            ]
          },
          "metadata": {
            "tags": []
          },
          "execution_count": 46
        },
        {
          "output_type": "display_data",
          "data": {
            "image/png": "[encoded data removed]",
            "text/plain": [
              "<Figure size 432x288 with 1 Axes>"
            ]
          },
          "metadata": {
            "tags": [],
            "needs_background": "light"
          }
        }
      ]
    },
    {
      "cell_type": "code",
      "metadata": {
        "id": "2P7kOROw29vg",
        "colab_type": "code",
        "colab": {
          "base_uri": "https://localhost:8080/",
          "height": 197
        },
        "outputId": "ce769a8a-cf3f-40fc-a15d-25da1903e216"
      },
      "source": [
        "losses"
      ],
      "execution_count": 47,
      "outputs": [
        {
          "output_type": "execute_result",
          "data": {
            "text/plain": [
              "[DeviceArray(nan, dtype=float32),\n",
              " DeviceArray(nan, dtype=float32),\n",
              " DeviceArray(nan, dtype=float32),\n",
              " DeviceArray(nan, dtype=float32),\n",
              " DeviceArray(nan, dtype=float32),\n",
              " DeviceArray(nan, dtype=float32),\n",
              " DeviceArray(nan, dtype=float32),\n",
              " DeviceArray(nan, dtype=float32),\n",
              " DeviceArray(nan, dtype=float32),\n",
              " DeviceArray(nan, dtype=float32)]"
            ]
          },
          "metadata": {
            "tags": []
          },
          "execution_count": 47
        }
      ]
    },
    {
      "cell_type": "code",
      "metadata": {
        "id": "vivIaiMl2_dv",
        "colab_type": "code",
        "colab": {}
      },
      "source": [
        ""
      ],
      "execution_count": null,
      "outputs": []
    }
  ]
}