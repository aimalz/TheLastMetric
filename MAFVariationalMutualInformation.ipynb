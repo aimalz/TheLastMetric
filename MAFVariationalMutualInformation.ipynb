{
  "nbformat": 4,
  "nbformat_minor": 0,
  "metadata": {
    "colab": {
      "name": "MAFVariationalMutualInformation.ipynb",
      "provenance": [],
      "collapsed_sections": [],
      "authorship_tag": "ABX9TyP7A7wr29fNel4e0467LAK4",
      "include_colab_link": true
    },
    "kernelspec": {
      "name": "python3",
      "display_name": "Python 3"
    },
    "accelerator": "GPU"
  },
  "cells": [
    {
      "cell_type": "markdown",
      "metadata": {
        "id": "view-in-github",
        "colab_type": "text"
      },
      "source": [
        "<a href=\"https://colab.research.google.com/github/LSSTDESC/TheLastMetric/blob/master/MAFVariationalMutualInformation.ipynb\" target=\"_parent\"><img src=\"https://colab.research.google.com/assets/colab-badge.svg\" alt=\"Open In Colab\"/></a>"
      ]
    },
    {
      "cell_type": "markdown",
      "metadata": {
        "id": "talJxDz8s2CM",
        "colab_type": "text"
      },
      "source": [
        "# Testing Mutual Information Metric for Photoz"
      ]
    },
    {
      "cell_type": "markdown",
      "metadata": {
        "id": "fyivJdJCvH7h",
        "colab_type": "text"
      },
      "source": [
        "## Loading the data"
      ]
    },
    {
      "cell_type": "code",
      "metadata": {
        "id": "HZj13_soq0Hv",
        "colab_type": "code",
        "colab": {
          "base_uri": "https://localhost:8080/",
          "height": 35
        },
        "outputId": "51b212cf-a575-4c6a-b0d4-1eece28caa56"
      },
      "source": [
        "!wget --quiet -O dataset.tar https://drive.google.com/u/0/uc?id=1wZ3UCdZyBKytp5ZS2wk5epOOy7BpYidU&export=download\n",
        "!tar -xf dataset.tar\n",
        "!mv for_francois dataset"
      ],
      "execution_count": 1,
      "outputs": [
        {
          "output_type": "stream",
          "text": [
            "mv: cannot move 'for_francois' to 'dataset/for_francois': Directory not empty\n"
          ],
          "name": "stdout"
        }
      ]
    },
    {
      "cell_type": "code",
      "metadata": {
        "id": "08-S11bxrRZ_",
        "colab_type": "code",
        "colab": {}
      },
      "source": [
        "more dataset/README.txt"
      ],
      "execution_count": 5,
      "outputs": []
    },
    {
      "cell_type": "code",
      "metadata": {
        "id": "w0SZFBkerVyq",
        "colab_type": "code",
        "colab": {}
      },
      "source": [
        "from astropy.table import Table\n",
        "test_cat = Table.read('dataset/baseline_v1.4_10yrs/test.cat', format='ascii')\n",
        "\n",
        "names_z=('ID', 'z_true', 'z_phot', 'dz_phot', 'NN', 'N_train')\n",
        "z_cat = Table.read('dataset/baseline_v1.4_10yrs/zphot.cat', \n",
        "                       format='ascii', \n",
        "                       names=names_z)\n",
        "\n",
        "names_phot=('ID', 'z_true', \n",
        "        'u', 'g', 'r', 'i', 'z', 'y', \n",
        "        'err_u', 'err_g', 'err_r', 'err_i', 'err_z', 'err_y', \n",
        "        'u-g', 'g-r', 'r-i', 'i-z', 'z-y',\n",
        "        'err_u-g', 'err_g-r', 'err_r-i', 'err_i-z', 'err_z-y')\n",
        "phot_cat = Table.read('dataset/baseline_v1.4_10yrs/test.cat', \n",
        "                       format='ascii', \n",
        "                       names=names_phot)\n",
        "phot_cat = Table.from_pandas(phot_cat.to_pandas().dropna())"
      ],
      "execution_count": 108,
      "outputs": []
    },
    {
      "cell_type": "code",
      "metadata": {
        "id": "giQ6d2g0zImm",
        "colab_type": "code",
        "colab": {
          "base_uri": "https://localhost:8080/",
          "height": 391
        },
        "outputId": "854557af-3942-4d8b-9525-51cf518397da"
      },
      "source": [
        "%pylab inline\n",
        "hist(phot_cat['z_true'])"
      ],
      "execution_count": 3,
      "outputs": [
        {
          "output_type": "stream",
          "text": [
            "Populating the interactive namespace from numpy and matplotlib\n"
          ],
          "name": "stdout"
        },
        {
          "output_type": "execute_result",
          "data": {
            "text/plain": [
              "(array([ 4207.,  9416., 10267.,  8282.,  6280.,  3994.,  1693.,   849.,\n",
              "          409.,    70.]),\n",
              " array([0.01445425, 0.32391673, 0.6333792 , 0.94284168, 1.25230415,\n",
              "        1.56176663, 1.8712291 , 2.18069157, 2.49015405, 2.79961653,\n",
              "        3.109079  ]),\n",
              " <a list of 10 Patch objects>)"
            ]
          },
          "metadata": {
            "tags": []
          },
          "execution_count": 3
        },
        {
          "output_type": "display_data",
          "data": {
            "image/png": "[encoded data removed]",
            "text/plain": [
              "<Figure size 432x288 with 1 Axes>"
            ]
          },
          "metadata": {
            "tags": [],
            "needs_background": "light"
          }
        }
      ]
    },
    {
      "cell_type": "markdown",
      "metadata": {
        "id": "G8e-Xq4JvGDs",
        "colab_type": "text"
      },
      "source": [
        "## Building a Mutual Information Lower Bound"
      ]
    },
    {
      "cell_type": "code",
      "metadata": {
        "id": "LNy10URIvg4B",
        "colab_type": "code",
        "colab": {
          "base_uri": "https://localhost:8080/",
          "height": 35
        },
        "outputId": "0f4cfa23-5ef5-4041-fb03-e8a4f7536a6a"
      },
      "source": [
        "!pip install --quiet flax"
      ],
      "execution_count": 11,
      "outputs": [
        {
          "output_type": "stream",
          "text": [
            "\u001b[?25l\r\u001b[K     |███▉                            | 10kB 32.4MB/s eta 0:00:01\r\u001b[K     |███████▊                        | 20kB 2.9MB/s eta 0:00:01\r\u001b[K     |███████████▋                    | 30kB 3.9MB/s eta 0:00:01\r\u001b[K     |███████████████▌                | 40kB 4.2MB/s eta 0:00:01\r\u001b[K     |███████████████████▍            | 51kB 3.4MB/s eta 0:00:01\r\u001b[K     |███████████████████████▎        | 61kB 3.8MB/s eta 0:00:01\r\u001b[K     |███████████████████████████▏    | 71kB 4.1MB/s eta 0:00:01\r\u001b[K     |███████████████████████████████ | 81kB 4.4MB/s eta 0:00:01\r\u001b[K     |████████████████████████████████| 92kB 3.6MB/s \n",
            "\u001b[?25h"
          ],
          "name": "stdout"
        }
      ]
    },
    {
      "cell_type": "code",
      "metadata": {
        "id": "_uQrERW0CNRX",
        "colab_type": "code",
        "colab": {},
        "cellView": "form"
      },
      "source": [
        "#@title Some useful code\n",
        "\n",
        "import numpy as onp\n",
        "import jax.numpy as jnp\n",
        " \n",
        "from tensorflow_probability.python.internal.backend import jax as tf\n",
        "import tensorflow_probability as tfp; tfp = tfp.experimental.substrates.jax\n",
        " \n",
        "bijector_lib = tfp.bijectors.bijector\n",
        " \n",
        "__all__ = [\n",
        "    'RealNVP'\n",
        "]\n",
        " \n",
        "class RealNVP(bijector_lib.Bijector):\n",
        "  \"\"\"RealNVP 'affine coupling layer' for vector-valued events.\n",
        "  Real NVP models a normalizing flow on a `D`-dimensional distribution via a\n",
        "  single `D-d`-dimensional conditional distribution [(Dinh et al., 2017)][1]:\n",
        "  `y[d:D] = x[d:D] * tf.exp(log_scale_fn(x[0:d])) + shift_fn(x[0:d])`\n",
        "  `y[0:d] = x[0:d]`\n",
        "  The last `D-d` units are scaled and shifted based on the first `d` units only,\n",
        "  while the first `d` units are 'masked' and left unchanged. Real NVP's\n",
        "  `shift_and_log_scale_fn` computes vector-valued quantities. For\n",
        "  scale-and-shift transforms that do not depend on any masked units, i.e.\n",
        "  `d=0`, use the `tfb.Affine` bijector with learned parameters instead.\n",
        "  Masking is currently only supported for base distributions with\n",
        "  `event_ndims=1`. For more sophisticated masking schemes like checkerboard or\n",
        "  channel-wise masking [(Papamakarios et al., 2016)[4], use the `tfb.Permute`\n",
        "  bijector to re-order desired masked units into the first `d` units. For base\n",
        "  distributions with `event_ndims > 1`, use the `tfb.Reshape` bijector to\n",
        "  flatten the event shape.\n",
        "  Recall that the MAF bijector [(Papamakarios et al., 2016)][4] implements a\n",
        "  normalizing flow via an autoregressive transformation. MAF and IAF have\n",
        "  opposite computational tradeoffs - MAF can train all units in parallel but\n",
        "  must sample units sequentially, while IAF must train units sequentially but\n",
        "  can sample in parallel. In contrast, Real NVP can compute both forward and\n",
        "  inverse computations in parallel. However, the lack of an autoregressive\n",
        "  transformations makes it less expressive on a per-bijector basis.\n",
        "  A 'valid' `shift_and_log_scale_fn` must compute each `shift` (aka `loc` or\n",
        "  'mu' in [Papamakarios et al. (2016)][4]) and `log(scale)` (aka 'alpha' in\n",
        "  [Papamakarios et al. (2016)][4]) such that each are broadcastable with the\n",
        "  arguments to `forward` and `inverse`, i.e., such that the calculations in\n",
        "  `forward`, `inverse` [below] are possible. For convenience,\n",
        "  `real_nvp_default_nvp` is offered as a possible `shift_and_log_scale_fn`\n",
        "  function.\n",
        "  NICE [(Dinh et al., 2014)][2] is a special case of the Real NVP bijector\n",
        "  which discards the scale transformation, resulting in a constant-time\n",
        "  inverse-log-determinant-Jacobian. To use a NICE bijector instead of Real\n",
        "  NVP, `shift_and_log_scale_fn` should return `(shift, None)`, and\n",
        "  `is_constant_jacobian` should be set to `True` in the `RealNVP` constructor.\n",
        "  Calling `real_nvp_default_template` with `shift_only=True` returns one such\n",
        "  NICE-compatible `shift_and_log_scale_fn`.\n",
        "  The `bijector_fn` argument allows specifying a more general coupling relation,\n",
        "  such as the LSTM-inspired activation from [5], or Neural Spline Flow [6].\n",
        "  Caching: the scalar input depth `D` of the base distribution is not known at\n",
        "  construction time. The first call to any of `forward(x)`, `inverse(x)`,\n",
        "  `inverse_log_det_jacobian(x)`, or `forward_log_det_jacobian(x)` memoizes\n",
        "  `D`, which is re-used in subsequent calls. This shape must be known prior to\n",
        "  graph execution (which is the case if using tf.layers).\n",
        "  #### Examples\n",
        "  ```python\n",
        "  tfd = tfp.distributions\n",
        "  tfb = tfp.bijectors\n",
        "  # A common choice for a normalizing flow is to use a Gaussian for the base\n",
        "  # distribution. (However, any continuous distribution would work.) E.g.,\n",
        "  nvp = tfd.TransformedDistribution(\n",
        "      distribution=tfd.MultivariateNormalDiag(loc=[0., 0., 0.]),\n",
        "      bijector=tfb.RealNVP(\n",
        "          num_masked=2,\n",
        "          shift_and_log_scale_fn=tfb.real_nvp_default_template(\n",
        "              hidden_layers=[512, 512])))\n",
        "  x = nvp.sample()\n",
        "  nvp.log_prob(x)\n",
        "  nvp.log_prob(0.)\n",
        "  ```\n",
        "  For more examples, see [Jang (2018)][3].\n",
        "  #### References\n",
        "  [1]: Laurent Dinh, Jascha Sohl-Dickstein, and Samy Bengio. Density Estimation\n",
        "       using Real NVP. In _International Conference on Learning\n",
        "       Representations_, 2017. https://arxiv.org/abs/1605.08803\n",
        "  [2]: Laurent Dinh, David Krueger, and Yoshua Bengio. NICE: Non-linear\n",
        "       Independent Components Estimation. _arXiv preprint arXiv:1410.8516_,\n",
        "       2014. https://arxiv.org/abs/1410.8516\n",
        "  [3]: Eric Jang. Normalizing Flows Tutorial, Part 2: Modern Normalizing Flows.\n",
        "       _Technical Report_, 2018. http://blog.evjang.com/2018/01/nf2.html\n",
        "  [4]: George Papamakarios, Theo Pavlakou, and Iain Murray. Masked\n",
        "       Autoregressive Flow for Density Estimation. In _Neural Information\n",
        "       Processing Systems_, 2017. https://arxiv.org/abs/1705.07057\n",
        "  [5]: Diederik P Kingma, Tim Salimans, Max Welling. Improving Variational\n",
        "       Inference with Inverse Autoregressive Flow. In _Neural Information\n",
        "       Processing Systems_, 2016. https://arxiv.org/abs/1606.04934\n",
        "  [6]: Conor Durkan, Artur Bekasov, Iain Murray, George Papamakarios. Neural\n",
        "       Spline Flows, 2019. http://arxiv.org/abs/1906.04032\n",
        "  \"\"\"\n",
        " \n",
        "  def __init__(self,\n",
        "               num_masked=None,\n",
        "               fraction_masked=None,\n",
        "               shift_and_log_scale_fn=None,\n",
        "               bijector_fn=None,\n",
        "               is_constant_jacobian=False,\n",
        "               validate_args=False,\n",
        "               name=None):\n",
        "    \"\"\"Creates the Real NVP or NICE bijector.\n",
        "    Args:\n",
        "      num_masked: Python `int`, indicating the number of units of the\n",
        "        event that should should be masked. Must be in the closed interval\n",
        "        `[0, D-1]`, where `D` is the event size of the base distribution.\n",
        "        If the value is negative, then the last `d` units of the event are\n",
        "        masked instead. Must be `None` if `fraction_masked` is defined.\n",
        "      fraction_masked: Python `float`, indicating the number of units of the\n",
        "        event that should should be masked. Must be in the closed interval\n",
        "        `[-1, 1]`, and the value represents the fraction of the values to be\n",
        "        masked. The final number of values to be masked will be the input size\n",
        "        times the fraction, rounded to the the nearest integer towards zero.\n",
        "        If negative, then the last fraction of units are masked instead. Must\n",
        "        be `None` if `num_masked` is defined.\n",
        "      shift_and_log_scale_fn: Python `callable` which computes `shift` and\n",
        "        `log_scale` from both the forward domain (`x`) and the inverse domain\n",
        "        (`y`). Calculation must respect the 'autoregressive property' (see class\n",
        "        docstring). Suggested default\n",
        "        `masked_autoregressive_default_template(hidden_layers=...)`.\n",
        "        Typically the function contains `tf.Variables` and is wrapped using\n",
        "        `tf.make_template`. Returning `None` for either (both) `shift`,\n",
        "        `log_scale` is equivalent to (but more efficient than) returning zero.\n",
        "      bijector_fn: Python `callable` which returns a `tfb.Bijector` which\n",
        "        transforms the last `D-d` unit with the signature `(masked_units_tensor,\n",
        "        output_units, **condition_kwargs) -> bijector`. The bijector must\n",
        "        operate on scalar or vector events and must not alter the rank of its\n",
        "        input.\n",
        "      is_constant_jacobian: Python `bool`. Default: `False`. When `True` the\n",
        "        implementation assumes `log_scale` does not depend on the forward domain\n",
        "        (`x`) or inverse domain (`y`) values. (No validation is made;\n",
        "        `is_constant_jacobian=False` is always safe but possibly computationally\n",
        "        inefficient.)\n",
        "      validate_args: Python `bool` indicating whether arguments should be\n",
        "        checked for correctness.\n",
        "      name: Python `str`, name given to ops managed by this object.\n",
        "    Raises:\n",
        "      ValueError: If both or none of `shift_and_log_scale_fn` and `bijector_fn`\n",
        "          are specified.\n",
        "    \"\"\"\n",
        "    parameters = dict(locals())\n",
        "    name = name or 'real_nvp'\n",
        "    with tf.name_scope(name) as name:\n",
        "      # At construction time, we don't know input_depth.\n",
        "      self._input_depth = None\n",
        "      if num_masked is not None and fraction_masked is not None:\n",
        "        raise ValueError('Exactly one of `num_masked` and '\n",
        "                         '`fraction_masked` should be specified.')\n",
        " \n",
        "      if num_masked is not None:\n",
        "        if int(num_masked) != num_masked:\n",
        "          raise TypeError('`num_masked` must be an integer. Got: {} of type {}'\n",
        "                          ''.format(num_masked, type(num_masked)))\n",
        "        self._num_masked = int(num_masked)\n",
        "        self._fraction_masked = None\n",
        "        self._reverse_mask = self._num_masked < 0\n",
        "      else:\n",
        "        if not np.issubdtype(type(fraction_masked), np.floating):\n",
        "          raise TypeError('`fraction_masked` must be a float. Got: {} of type '\n",
        "                          '{}'.format(fraction_masked, type(fraction_masked)))\n",
        "        if np.abs(fraction_masked) >= 1.:\n",
        "          raise ValueError(\n",
        "              '`fraction_masked` must be in (-1, 1), but is {}.'.format(\n",
        "                  fraction_masked))\n",
        "        self._num_masked = None\n",
        "        self._fraction_masked = float(fraction_masked)\n",
        "        self._reverse_mask = self._fraction_masked < 0\n",
        " \n",
        "      if shift_and_log_scale_fn is not None and bijector_fn is not None:\n",
        "        raise ValueError('Exactly one of `shift_and_log_scale_fn` and '\n",
        "                         '`bijector_fn` should be specified.')\n",
        " \n",
        "      if shift_and_log_scale_fn:\n",
        "        def _bijector_fn(x0, input_depth, **condition_kwargs):\n",
        "          shift, log_scale = shift_and_log_scale_fn(x0, input_depth,\n",
        "                                                    **condition_kwargs)\n",
        "          return affine_scalar.AffineScalar(shift=shift, log_scale=log_scale)\n",
        " \n",
        "        bijector_fn = _bijector_fn\n",
        "      #\n",
        "      # if validate_args:\n",
        "      #   bijector_fn = _validate_bijector_fn(bijector_fn)\n",
        " \n",
        "      # Still do this assignment for variable tracking.\n",
        "      self._shift_and_log_scale_fn = shift_and_log_scale_fn\n",
        "      self._bijector_fn = bijector_fn\n",
        " \n",
        "      super(RealNVP, self).__init__(\n",
        "          forward_min_event_ndims=1,\n",
        "          is_constant_jacobian=is_constant_jacobian,\n",
        "          validate_args=validate_args,\n",
        "          parameters=parameters,\n",
        "          name=name)\n",
        " \n",
        "  @property\n",
        "  def _masked_size(self):\n",
        "    masked_size = (\n",
        "        self._num_masked if self._num_masked is not None else int(\n",
        "            np.round(self._input_depth * self._fraction_masked)))\n",
        "    return masked_size\n",
        " \n",
        "  def _cache_input_depth(self, x):\n",
        "    if self._input_depth is None:\n",
        "      self._input_depth = x.shape[-1]\n",
        "      if self._input_depth is None:\n",
        "        raise NotImplementedError(\n",
        "            'Rightmost dimension must be known prior to graph execution.')\n",
        " \n",
        "      if abs(self._masked_size) >= self._input_depth:\n",
        "        raise ValueError(\n",
        "            'Number of masked units {} must be smaller than the event size {}.'\n",
        "            .format(self._masked_size, self._input_depth))\n",
        " \n",
        "  def _bijector_input_units(self):\n",
        "    return self._input_depth - abs(self._masked_size)\n",
        " \n",
        "  def _forward(self, x, **condition_kwargs):\n",
        "    self._cache_input_depth(x)\n",
        " \n",
        "    x0, x1 = x[..., :self._masked_size], x[..., self._masked_size:]\n",
        " \n",
        "    if self._reverse_mask:\n",
        "      x0, x1 = x1, x0\n",
        " \n",
        "    y1 = self._bijector_fn(x0, self._bijector_input_units(),\n",
        "                           **condition_kwargs).forward(x1)\n",
        " \n",
        "    if self._reverse_mask:\n",
        "      y1, x0 = x0, y1\n",
        " \n",
        "    y = tf.concat([x0, y1], axis=-1)\n",
        "    return y\n",
        " \n",
        "  def _inverse(self, y, **condition_kwargs):\n",
        "    self._cache_input_depth(y)\n",
        " \n",
        "    y0, y1 = y[..., :self._masked_size], y[..., self._masked_size:]\n",
        " \n",
        "    if self._reverse_mask:\n",
        "      y0, y1 = y1, y0\n",
        " \n",
        "    x1 = self._bijector_fn(y0, self._bijector_input_units(),\n",
        "                           **condition_kwargs).inverse(y1)\n",
        " \n",
        "    if self._reverse_mask:\n",
        "      x1, y0 = y0, x1\n",
        " \n",
        "    x = tf.concat([y0, x1], axis=-1)\n",
        "    return x\n",
        " \n",
        "  def _forward_log_det_jacobian(self, x, **condition_kwargs):\n",
        "    self._cache_input_depth(x)\n",
        " \n",
        "    x0, x1 = x[..., :self._masked_size], x[..., self._masked_size:]\n",
        " \n",
        "    if self._reverse_mask:\n",
        "      x0, x1 = x1, x0\n",
        " \n",
        "    return self._bijector_fn(x0, self._bijector_input_units(),\n",
        "                             **condition_kwargs).forward_log_det_jacobian(\n",
        "                                 x1, event_ndims=1)\n",
        " \n",
        "  def _inverse_log_det_jacobian(self, y, **condition_kwargs):\n",
        "    self._cache_input_depth(y)\n",
        " \n",
        "    y0, y1 = y[..., :self._masked_size], y[..., self._masked_size:]\n",
        " \n",
        "    if self._reverse_mask:\n",
        "      y0, y1 = y1, y0\n",
        " \n",
        "    return self._bijector_fn(y0, self._bijector_input_units(),\n",
        "                             **condition_kwargs).inverse_log_det_jacobian(\n",
        "                                 y1, event_ndims=1)"
      ],
      "execution_count": 10,
      "outputs": []
    },
    {
      "cell_type": "code",
      "metadata": {
        "id": "dJ1xsNMSu7Hi",
        "colab_type": "code",
        "colab": {}
      },
      "source": [
        "import tensorflow_probability as tfp; tfp = tfp.experimental.substrates.jax\n",
        "import flax \n",
        "from flax import nn\n",
        "import jax\n",
        "import jax.numpy as np\n",
        "import numpy as onp\n",
        "\n",
        "tfb = tfp.bijectors\n",
        "tfd = tfp.distributions"
      ],
      "execution_count": 11,
      "outputs": []
    },
    {
      "cell_type": "code",
      "metadata": {
        "id": "IzZmEEhpvd7S",
        "colab_type": "code",
        "colab": {}
      },
      "source": [
        "@nn.module\n",
        "def NeuralSpline(x, nunits=1, nbins=32):\n",
        "  def bin_positions(x):\n",
        "    x = np.reshape(x, [-1, nunits, nbins])\n",
        "    return nn.activation.softmax(x, axis=-1) *  (2. - nbins * 1e-2) + 1e-2\n",
        "  \n",
        "  def slopes(x):\n",
        "    x = np.reshape(x, [-1, nunits, nbins - 1])\n",
        "    return nn.activation.softplus(x) + 1e-2\n",
        "\n",
        "  # Let's have one more non stupid layer\n",
        "  net = nn.leaky_relu(nn.Dense(x, 128))\n",
        "  net = nn.leaky_relu(nn.Dense(net, 128))\n",
        "\n",
        "  bin_widths = bin_positions(nn.Dense(net, nunits*nbins))\n",
        "  bin_heights = bin_positions(nn.Dense(net, nunits*nbins))\n",
        "  knot_slopes = slopes(nn.Dense(net, nunits*(nbins-1)))\n",
        "\n",
        "  return tfb.RationalQuadraticSpline(\n",
        "            bin_widths=bin_widths,\n",
        "            bin_heights=bin_heights,\n",
        "            knot_slopes=knot_slopes)"
      ],
      "execution_count": 12,
      "outputs": []
    },
    {
      "cell_type": "code",
      "metadata": {
        "id": "H7ua6h5j9zLg",
        "colab_type": "code",
        "colab": {}
      },
      "source": [
        "@nn.module\n",
        "def ConditionalDensityEstimator(x):\n",
        "  # Some input processing\n",
        "  net = nn.BatchNorm(x)\n",
        "  net = nn.leaky_relu(nn.Dense(net, 512))\n",
        "  net = nn.BatchNorm(net)\n",
        "  net = nn.leaky_relu(nn.Dense(net, 512))\n",
        "  net = nn.BatchNorm(net)\n",
        "  net = nn.leaky_relu(nn.Dense(net, 512))\n",
        "\n",
        "\n",
        "  loc = nn.Dense(net,1)\n",
        "  scale= nn.softplus(nn.Dense(net,1))\n",
        "\n",
        "  # spline1 = NeuralSpline.shared(name='spline1')\n",
        "  # spline2 = NeuralSpline.shared(name='spline2')  \n",
        "\n",
        "  # And here we define some simple normalizing flow\n",
        "  bijector_chain = tfb.Chain([       \n",
        "        tfb.Scale(3.5/2.),\n",
        "        tfb.Shift(1.0),\n",
        "        tfb.Tanh(),\n",
        "        # tfb.Scale(10.),        \n",
        "        # spline1(net),    \n",
        "        # tfb.Scale(0.1)\n",
        "  ])\n",
        "\n",
        "  distribution = tfd.TransformedDistribution(tfd.Normal(loc=loc, scale=scale),\n",
        "                                             bijector_chain)\n",
        "  return distribution"
      ],
      "execution_count": 72,
      "outputs": []
    },
    {
      "cell_type": "markdown",
      "metadata": {
        "id": "EpTMm_deG_ZT",
        "colab_type": "text"
      },
      "source": [
        "u-g', 'g-r', 'r-i', 'i-z', 'z-y',"
      ]
    },
    {
      "cell_type": "code",
      "metadata": {
        "id": "93nfE9Sgzi7u",
        "colab_type": "code",
        "colab": {}
      },
      "source": [
        "batch_size = 512\n",
        "def get_batch():\n",
        "  inds = onp.random.choice(len(phot_cat), size=batch_size)\n",
        "  x = np.stack([phot_cat['u-g'][inds], phot_cat['g-r'][inds], phot_cat['r-i'][inds],\n",
        "                phot_cat['i-z'][inds],phot_cat['z-y'][inds] ]).astype('float32').T\n",
        "  y = np.array(phot_cat['z_true'][inds]).astype('float32').reshape((-1,1))\n",
        "  return {'x':x, 'y':y}"
      ],
      "execution_count": 85,
      "outputs": []
    },
    {
      "cell_type": "code",
      "metadata": {
        "id": "ILSGCb221s8W",
        "colab_type": "code",
        "colab": {}
      },
      "source": [
        "@jax.jit\n",
        "def train_step(optimizer, batch):\n",
        "  def loss_fn(model):\n",
        "    distribution = model(batch['x'])\n",
        "    loss = - np.mean(distribution.log_prob(batch['y']))\n",
        "    return loss\n",
        "  l, grad = jax.value_and_grad(loss_fn)(optimizer.target)\n",
        "\n",
        "  optimizer = optimizer.apply_gradient(grad)\n",
        "  return optimizer, l\n",
        "\n",
        "_, initial_params = ConditionalDensityEstimator.init_by_shape(jax.random.PRNGKey(0),\n",
        "                                           [((1, 5), np.float32)])\n",
        "\n",
        "model = flax.nn.Model(ConditionalDensityEstimator, initial_params)\n",
        "\n",
        "optimizer = flax.optim.Adam(learning_rate=0.001).create(model)\n",
        "\n",
        "losses = []"
      ],
      "execution_count": 88,
      "outputs": []
    },
    {
      "cell_type": "code",
      "metadata": {
        "id": "UMJj2fiq2Teu",
        "colab_type": "code",
        "colab": {
          "base_uri": "https://localhost:8080/",
          "height": 253
        },
        "outputId": "405c7d60-1e1c-4c33-cdb9-8bc4a8e755c3"
      },
      "source": [
        "for epoch in range(10000):\n",
        "  batch = get_batch()\n",
        "  optimizer, l = train_step(optimizer, batch)\n",
        "  if epoch % 1000 == 0:\n",
        "    print(epoch, l)\n",
        "  losses.append(l)"
      ],
      "execution_count": 89,
      "outputs": [
        {
          "output_type": "stream",
          "text": [
            "/usr/local/lib/python3.6/dist-packages/jax/numpy/lax_numpy.py:1601: FutureWarning: jax.numpy reductions won't accept lists and tuples in future versions, only scalars and ndarrays\n",
            "  warnings.warn(msg, category=FutureWarning)\n"
          ],
          "name": "stderr"
        },
        {
          "output_type": "stream",
          "text": [
            "0 24.940762\n",
            "1000 -0.245571\n",
            "2000 -0.78668624\n",
            "3000 -1.1184092\n",
            "4000 -1.212142\n",
            "5000 -1.3699418\n",
            "6000 -1.2089763\n",
            "7000 -1.3625836\n",
            "8000 -1.3949391\n",
            "9000 -1.0735232\n"
          ],
          "name": "stdout"
        }
      ]
    },
    {
      "cell_type": "code",
      "metadata": {
        "id": "TzfpeqRO2iFd",
        "colab_type": "code",
        "colab": {
          "base_uri": "https://localhost:8080/",
          "height": 283
        },
        "outputId": "d6a269ba-fd9a-4db6-c943-d597f38d5f69"
      },
      "source": [
        "plot(np.array(losses[100:]))"
      ],
      "execution_count": 90,
      "outputs": [
        {
          "output_type": "execute_result",
          "data": {
            "text/plain": [
              "[<matplotlib.lines.Line2D at 0x7fd1959670b8>]"
            ]
          },
          "metadata": {
            "tags": []
          },
          "execution_count": 90
        },
        {
          "output_type": "display_data",
          "data": {
            "image/png": "[encoded data removed]",
            "text/plain": [
              "<Figure size 432x288 with 1 Axes>"
            ]
          },
          "metadata": {
            "tags": [],
            "needs_background": "light"
          }
        }
      ]
    },
    {
      "cell_type": "code",
      "metadata": {
        "id": "2P7kOROw29vg",
        "colab_type": "code",
        "colab": {}
      },
      "source": [
        "batch = get_batch()\n",
        "dist = optimizer.target(batch['x'])"
      ],
      "execution_count": 100,
      "outputs": []
    },
    {
      "cell_type": "code",
      "metadata": {
        "id": "igyVTTsc98OR",
        "colab_type": "code",
        "colab": {
          "base_uri": "https://localhost:8080/",
          "height": 73
        },
        "outputId": "37d3a383-06c4-4f11-ce52-f67b46be3750"
      },
      "source": [
        "tx = np.linspace(0,3.5,100)\n",
        "logp = dist.log_prob(tx)"
      ],
      "execution_count": 105,
      "outputs": [
        {
          "output_type": "stream",
          "text": [
            "/usr/local/lib/python3.6/dist-packages/jax/numpy/lax_numpy.py:1601: FutureWarning: jax.numpy reductions won't accept lists and tuples in future versions, only scalars and ndarrays\n",
            "  warnings.warn(msg, category=FutureWarning)\n"
          ],
          "name": "stderr"
        }
      ]
    },
    {
      "cell_type": "code",
      "metadata": {
        "id": "oC3AFenn-BUu",
        "colab_type": "code",
        "colab": {
          "base_uri": "https://localhost:8080/",
          "height": 283
        },
        "outputId": "1a040e09-7c80-4034-8642-03139b3a4e04"
      },
      "source": [
        "plot(tx, np.exp(logp[0]))\n",
        "axvline(batch['y'][0], color='C0')\n",
        "plot(tx, np.exp(logp[1]))\n",
        "axvline(batch['y'][1], color='C1')"
      ],
      "execution_count": 106,
      "outputs": [
        {
          "output_type": "execute_result",
          "data": {
            "text/plain": [
              "<matplotlib.lines.Line2D at 0x7fd1947ca9e8>"
            ]
          },
          "metadata": {
            "tags": []
          },
          "execution_count": 106
        },
        {
          "output_type": "display_data",
          "data": {
            "image/png": "[encoded data removed]",
            "text/plain": [
              "<Figure size 432x288 with 1 Axes>"
            ]
          },
          "metadata": {
            "tags": [],
            "needs_background": "light"
          }
        }
      ]
    },
    {
      "cell_type": "markdown",
      "metadata": {
        "id": "n5X5XXnIHg5J",
        "colab_type": "text"
      },
      "source": [
        "This plot should show the redshift posterior distribution for \n",
        "given photometry $q_\\theta(z | phot)$. \n",
        "\n",
        "We are going to use that to compute our lower bound on the mutual information:\n",
        "\n",
        "$$I(z; phot)  \\geq \\mathbb{E}_{z, phot} \\left[ q_\\theta(z | phot ) \\right]  + H(z)$$ \n",
        "\n",
        "The second term in this bound only depends on the true redshift distribution, which stays constant between different opsim runs. So we only care about the first term"
      ]
    },
    {
      "cell_type": "code",
      "metadata": {
        "id": "At8IrQ2s4NKl",
        "colab_type": "code",
        "colab": {
          "base_uri": "https://localhost:8080/",
          "height": 73
        },
        "outputId": "4cea35b6-73bc-4642-e212-65df3cf12e1b"
      },
      "source": [
        "x = np.stack([phot_cat['u-g'], phot_cat['g-r'], phot_cat['r-i'],\n",
        "              phot_cat['i-z'],phot_cat['z-y']]).astype('float32').T\n",
        "y = np.array(phot_cat['z_true']).astype('float32').reshape((-1,1))\n",
        "\n",
        "mutual_information_lower_bound = np.mean(model(x).log_prob(y))"
      ],
      "execution_count": 97,
      "outputs": [
        {
          "output_type": "stream",
          "text": [
            "/usr/local/lib/python3.6/dist-packages/jax/numpy/lax_numpy.py:1601: FutureWarning: jax.numpy reductions won't accept lists and tuples in future versions, only scalars and ndarrays\n",
            "  warnings.warn(msg, category=FutureWarning)\n"
          ],
          "name": "stderr"
        }
      ]
    },
    {
      "cell_type": "code",
      "metadata": {
        "id": "x9dOrSjS5NEr",
        "colab_type": "code",
        "colab": {
          "base_uri": "https://localhost:8080/",
          "height": 35
        },
        "outputId": "d7ee6d53-d8ec-4eb5-dbca-4aa341e08af7"
      },
      "source": [
        "mutual_information_lower_bound"
      ],
      "execution_count": 107,
      "outputs": [
        {
          "output_type": "execute_result",
          "data": {
            "text/plain": [
              "DeviceArray(-26.155182, dtype=float32)"
            ]
          },
          "metadata": {
            "tags": []
          },
          "execution_count": 107
        }
      ]
    },
    {
      "cell_type": "markdown",
      "metadata": {
        "id": "wh9LWrXUJJaq",
        "colab_type": "text"
      },
      "source": [
        "## Computing the bound for various opsim runs"
      ]
    },
    {
      "cell_type": "code",
      "metadata": {
        "id": "V2CsnIftJIyd",
        "colab_type": "code",
        "colab": {}
      },
      "source": [
        "test_cat = Table.read('dataset/weather_1.2_v1.4_10yrs/test.cat', format='ascii')\n",
        "\n",
        "names_z=('ID', 'z_true', 'z_phot', 'dz_phot', 'NN', 'N_train')\n",
        "z_cat = Table.read('dataset/weather_1.2_v1.4_10yrs/zphot.cat', \n",
        "                       format='ascii', \n",
        "                       names=names_z)\n",
        "\n",
        "names_phot=('ID', 'z_true', \n",
        "        'u', 'g', 'r', 'i', 'z', 'y', \n",
        "        'err_u', 'err_g', 'err_r', 'err_i', 'err_z', 'err_y', \n",
        "        'u-g', 'g-r', 'r-i', 'i-z', 'z-y',\n",
        "        'err_u-g', 'err_g-r', 'err_r-i', 'err_i-z', 'err_z-y')\n",
        "phot_cat = Table.read('dataset/weather_1.2_v1.4_10yrs/test.cat', \n",
        "                       format='ascii', \n",
        "                       names=names_phot)\n",
        "phot_cat = Table.from_pandas(phot_cat.to_pandas().dropna())"
      ],
      "execution_count": 112,
      "outputs": []
    },
    {
      "cell_type": "code",
      "metadata": {
        "id": "0C5HyzG_IrPm",
        "colab_type": "code",
        "colab": {}
      },
      "source": [
        "batch_size = 512\n",
        "def get_batch():\n",
        "  inds = onp.random.choice(len(phot_cat), size=batch_size)\n",
        "  x = np.stack([phot_cat['u-g'][inds], phot_cat['g-r'][inds], phot_cat['r-i'][inds],\n",
        "                phot_cat['i-z'][inds],phot_cat['z-y'][inds] ]).astype('float32').T\n",
        "  y = np.array(phot_cat['z_true'][inds]).astype('float32').reshape((-1,1))\n",
        "  return {'x':x, 'y':y}"
      ],
      "execution_count": 113,
      "outputs": []
    },
    {
      "cell_type": "code",
      "metadata": {
        "id": "n9Lho0xAJm0f",
        "colab_type": "code",
        "colab": {}
      },
      "source": [
        "_, initial_params = ConditionalDensityEstimator.init_by_shape(jax.random.PRNGKey(0),\n",
        "                                           [((1, 5), np.float32)])\n",
        "\n",
        "model = flax.nn.Model(ConditionalDensityEstimator, initial_params)\n",
        "\n",
        "optimizer = flax.optim.Adam(learning_rate=0.001).create(model)\n",
        "\n",
        "losses = []"
      ],
      "execution_count": 114,
      "outputs": []
    },
    {
      "cell_type": "code",
      "metadata": {
        "id": "gBv5Md4zJ2lk",
        "colab_type": "code",
        "colab": {
          "base_uri": "https://localhost:8080/",
          "height": 253
        },
        "outputId": "32227049-3ecb-431f-869d-77ab5e663ba6"
      },
      "source": [
        "for epoch in range(10000):\n",
        "  batch = get_batch()\n",
        "  optimizer, l = train_step(optimizer, batch)\n",
        "  if epoch % 1000 == 0:\n",
        "    print(epoch, l)\n",
        "  losses.append(l)"
      ],
      "execution_count": 115,
      "outputs": [
        {
          "output_type": "stream",
          "text": [
            "/usr/local/lib/python3.6/dist-packages/jax/numpy/lax_numpy.py:1601: FutureWarning: jax.numpy reductions won't accept lists and tuples in future versions, only scalars and ndarrays\n",
            "  warnings.warn(msg, category=FutureWarning)\n"
          ],
          "name": "stderr"
        },
        {
          "output_type": "stream",
          "text": [
            "0 24.113823\n",
            "1000 0.34564108\n",
            "2000 -0.09033154\n",
            "3000 -0.63496363\n",
            "4000 -0.85043794\n",
            "5000 -1.0570939\n",
            "6000 -1.3643892\n",
            "7000 -1.2984409\n",
            "8000 -1.4348577\n",
            "9000 -1.5217957\n"
          ],
          "name": "stdout"
        }
      ]
    },
    {
      "cell_type": "code",
      "metadata": {
        "id": "gYeCrS1PKOG1",
        "colab_type": "code",
        "colab": {
          "base_uri": "https://localhost:8080/",
          "height": 283
        },
        "outputId": "5785b604-020c-40fa-ea1b-fb6f7548d8bf"
      },
      "source": [
        "plot(np.array(losses[2000:]))"
      ],
      "execution_count": 122,
      "outputs": [
        {
          "output_type": "execute_result",
          "data": {
            "text/plain": [
              "[<matplotlib.lines.Line2D at 0x7fd1961c87b8>]"
            ]
          },
          "metadata": {
            "tags": []
          },
          "execution_count": 122
        },
        {
          "output_type": "display_data",
          "data": {
            "image/png": "[encoded data removed]",
            "text/plain": [
              "<Figure size 432x288 with 1 Axes>"
            ]
          },
          "metadata": {
            "tags": [],
            "needs_background": "light"
          }
        }
      ]
    },
    {
      "cell_type": "code",
      "metadata": {
        "id": "ipqtyrySJ553",
        "colab_type": "code",
        "colab": {}
      },
      "source": [
        "batch = get_batch()\n",
        "dist = optimizer.target(batch['x'])"
      ],
      "execution_count": 123,
      "outputs": []
    },
    {
      "cell_type": "code",
      "metadata": {
        "id": "S0HKxpuRJ8ug",
        "colab_type": "code",
        "colab": {
          "base_uri": "https://localhost:8080/",
          "height": 73
        },
        "outputId": "385c5232-8828-4862-ebd8-5e815c33e59d"
      },
      "source": [
        "tx = np.linspace(0,3.5,100)\n",
        "logp = dist.log_prob(tx)"
      ],
      "execution_count": 124,
      "outputs": [
        {
          "output_type": "stream",
          "text": [
            "/usr/local/lib/python3.6/dist-packages/jax/numpy/lax_numpy.py:1601: FutureWarning: jax.numpy reductions won't accept lists and tuples in future versions, only scalars and ndarrays\n",
            "  warnings.warn(msg, category=FutureWarning)\n"
          ],
          "name": "stderr"
        }
      ]
    },
    {
      "cell_type": "code",
      "metadata": {
        "id": "P4kRy82QJ-0z",
        "colab_type": "code",
        "colab": {
          "base_uri": "https://localhost:8080/",
          "height": 283
        },
        "outputId": "907db602-63b2-462f-c2a9-0c90a1b87d9b"
      },
      "source": [
        "plot(tx, np.exp(logp[0]))\n",
        "axvline(batch['y'][0], color='C0')\n",
        "plot(tx, np.exp(logp[1]))\n",
        "axvline(batch['y'][1], color='C1')"
      ],
      "execution_count": 125,
      "outputs": [
        {
          "output_type": "execute_result",
          "data": {
            "text/plain": [
              "<matplotlib.lines.Line2D at 0x7fd1959539e8>"
            ]
          },
          "metadata": {
            "tags": []
          },
          "execution_count": 125
        },
        {
          "output_type": "display_data",
          "data": {
            "image/png": "[encoded data removed]",
            "text/plain": [
              "<Figure size 432x288 with 1 Axes>"
            ]
          },
          "metadata": {
            "tags": [],
            "needs_background": "light"
          }
        }
      ]
    },
    {
      "cell_type": "code",
      "metadata": {
        "id": "qaYpMDNjKDPt",
        "colab_type": "code",
        "colab": {
          "base_uri": "https://localhost:8080/",
          "height": 73
        },
        "outputId": "56bbb221-853b-432f-f7da-c9d8db91d1c4"
      },
      "source": [
        "x = np.stack([phot_cat['u-g'], phot_cat['g-r'], phot_cat['r-i'],\n",
        "              phot_cat['i-z'],phot_cat['z-y']]).astype('float32').T\n",
        "y = np.array(phot_cat['z_true']).astype('float32').reshape((-1,1))\n",
        "\n",
        "mutual_information_lower_bound = np.mean(model(x).log_prob(y))"
      ],
      "execution_count": 119,
      "outputs": [
        {
          "output_type": "stream",
          "text": [
            "/usr/local/lib/python3.6/dist-packages/jax/numpy/lax_numpy.py:1601: FutureWarning: jax.numpy reductions won't accept lists and tuples in future versions, only scalars and ndarrays\n",
            "  warnings.warn(msg, category=FutureWarning)\n"
          ],
          "name": "stderr"
        }
      ]
    },
    {
      "cell_type": "code",
      "metadata": {
        "id": "TijBljyqKBJP",
        "colab_type": "code",
        "colab": {
          "base_uri": "https://localhost:8080/",
          "height": 35
        },
        "outputId": "d3d688f9-dcbb-4e23-8099-07a7945d8962"
      },
      "source": [
        "mutual_information_lower_bound"
      ],
      "execution_count": 120,
      "outputs": [
        {
          "output_type": "execute_result",
          "data": {
            "text/plain": [
              "DeviceArray(-26.551416, dtype=float32)"
            ]
          },
          "metadata": {
            "tags": []
          },
          "execution_count": 120
        }
      ]
    },
    {
      "cell_type": "code",
      "metadata": {
        "id": "ECe1eLG7KHkn",
        "colab_type": "code",
        "colab": {}
      },
      "source": [
        ""
      ],
      "execution_count": null,
      "outputs": []
    }
  ]
}