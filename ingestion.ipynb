{
 "cells": [
  {
   "cell_type": "code",
   "execution_count": null,
   "metadata": {},
   "outputs": [],
   "source": [
    "import corner\n",
    "import numpy as np\n",
    "import os\n",
    "import pandas as pd"
   ]
  },
  {
   "cell_type": "code",
   "execution_count": null,
   "metadata": {},
   "outputs": [],
   "source": [
    "basepath = 'for_francois'\n",
    "opsims = ['baseline_v1.4_10yrs', 'twilight_neo_mod1_v1.4_10yrs', 'var_expt_v1.4_10yrs', 'weather_1.2_v1.4_10yrs']\n",
    "phot_fn = 'test.cat'\n",
    "z_fn = 'zphot.cat'"
   ]
  },
  {
   "cell_type": "code",
   "execution_count": null,
   "metadata": {},
   "outputs": [],
   "source": [
    "names_phot = ('ID', 'z_true', \n",
    "        'u', 'g', 'r', 'i', 'z', 'y', \n",
    "        'err_u', 'err_g', 'err_r', 'err_i', 'err_z', 'err_y', \n",
    "        'u-g', 'g-r', 'r-i', 'i-z', 'z-y',\n",
    "        'err_u-g', 'err_g-r', 'err_r-i', 'err_i-z', 'err_z-y')\n",
    "\n",
    "names_z = ('ID', 'z_true', 'z_phot', 'dz_phot', 'NN', 'N_train')"
   ]
  },
  {
   "cell_type": "code",
   "execution_count": null,
   "metadata": {},
   "outputs": [],
   "source": [
    "colors = 'rgb'"
   ]
  },
  {
   "cell_type": "code",
   "execution_count": null,
   "metadata": {},
   "outputs": [],
   "source": [
    "# allphot = {}\n",
    "whichcol = ['u', 'g', 'r', 'i', 'z', 'y']#['err_u-g', 'err_g-r', 'err_r-i', 'err_i-z', 'err_z-y']\n",
    "for i, opsim in enumerate(opsims):\n",
    "    phot_np = np.loadtxt(os.path.join(os.path.join(basepath, opsim), phot_fn))\n",
    "    phot_pd = pd.DataFrame(phot_np, columns=names_phot).set_index('ID').dropna()\n",
    "#     print((i, phot_pd[whichcol].isna().sum()))\n",
    "#     phot_pd.dropna()\n",
    "    if i == 0:\n",
    "        fig = corner.corner(phot_pd[whichcol])\n",
    "    else:\n",
    "        corner.corner(phot_pd[whichcol], fig=fig, color=colors[i-1])\n",
    "#     allphot[opsim] = phot_pd"
   ]
  },
  {
   "cell_type": "code",
   "execution_count": null,
   "metadata": {},
   "outputs": [],
   "source": [
    "# phot_np"
   ]
  },
  {
   "cell_type": "code",
   "execution_count": null,
   "metadata": {},
   "outputs": [],
   "source": [
    "phot_pd = pd.DataFrame(phot_np, columns=names_phot).set_index('ID').dropna()"
   ]
  },
  {
   "cell_type": "code",
   "execution_count": null,
   "metadata": {},
   "outputs": [],
   "source": [
    "# phot_pd"
   ]
  },
  {
   "cell_type": "code",
   "execution_count": null,
   "metadata": {},
   "outputs": [],
   "source": [
    "z_np = np.loadtxt('for_francois/baseline_v1.4_10yrs/zphot.cat')\n",
    "z_pd = pd.DataFrame(z_np, columns=names_z).set_index('ID')"
   ]
  },
  {
   "cell_type": "code",
   "execution_count": null,
   "metadata": {},
   "outputs": [],
   "source": [
    "# z_pd"
   ]
  },
  {
   "cell_type": "code",
   "execution_count": null,
   "metadata": {},
   "outputs": [],
   "source": [
    "max(z_pd['z_true'])"
   ]
  },
  {
   "cell_type": "code",
   "execution_count": null,
   "metadata": {},
   "outputs": [],
   "source": []
  }
 ],
 "metadata": {
  "kernelspec": {
   "display_name": "LSST-DESC (Python 3)",
   "language": "python",
   "name": "lsstdesc_3"
  },
  "language_info": {
   "codemirror_mode": {
    "name": "ipython",
    "version": 3
   },
   "file_extension": ".py",
   "mimetype": "text/x-python",
   "name": "python",
   "nbconvert_exporter": "python",
   "pygments_lexer": "ipython3",
   "version": "3.6.8"
  }
 },
 "nbformat": 4,
 "nbformat_minor": 2
}
